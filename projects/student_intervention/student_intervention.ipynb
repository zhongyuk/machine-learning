{
 "cells": [
  {
   "cell_type": "markdown",
   "metadata": {},
   "source": [
    "# Machine Learning Engineer Nanodegree\n",
    "## Supervised Learning\n",
    "## Project 2: Building a Student Intervention System"
   ]
  },
  {
   "cell_type": "markdown",
   "metadata": {},
   "source": [
    "Welcome to the second project of the Machine Learning Engineer Nanodegree! In this notebook, some template code has already been provided for you, and it will be your job to implement the additional functionality necessary to successfully complete this project. Sections that begin with **'Implementation'** in the header indicate that the following block of code will require additional functionality which you must provide. Instructions will be provided for each section and the specifics of the implementation are marked in the code block with a `'TODO'` statement. Please be sure to read the instructions carefully!\n",
    "\n",
    "In addition to implementing code, there will be questions that you must answer which relate to the project and your implementation. Each section where you will answer a question is preceded by a **'Question X'** header. Carefully read each question and provide thorough answers in the following text boxes that begin with **'Answer:'**. Your project submission will be evaluated based on your answers to each of the questions and the implementation you provide.  \n",
    "\n",
    ">**Note:** Code and Markdown cells can be executed using the **Shift + Enter** keyboard shortcut. In addition, Markdown cells can be edited by typically double-clicking the cell to enter edit mode."
   ]
  },
  {
   "cell_type": "markdown",
   "metadata": {},
   "source": [
    "### Question 1 - Classification vs. Regression\n",
    "*Your goal for this project is to identify students who might need early intervention before they fail to graduate. Which type of supervised learning problem is this, classification or regression? Why?*"
   ]
  },
  {
   "cell_type": "markdown",
   "metadata": {},
   "source": [
    "**Answer: **\n",
    "\n",
    "Classification. B/z the target output is binary. Specifically, the outcome of the algorithm for a specific sample point is: either *yes* this student need early intervention; or *no* this student does not need early intervention. Convert to mathmatical language, the outcome can be encoded as 0 and 1.\n",
    "\n",
    "The outcome of regression problem is usually continuous outputs, such as predicting housing prices, the numerical quantities (how many) of inventory goods, etc. "
   ]
  },
  {
   "cell_type": "markdown",
   "metadata": {},
   "source": [
    "## Exploring the Data\n",
    "Run the code cell below to load necessary Python libraries and load the student data. Note that the last column from this dataset, `'passed'`, will be our target label (whether the student graduated or didn't graduate). All other columns are features about each student."
   ]
  },
  {
   "cell_type": "code",
   "execution_count": 1,
   "metadata": {
    "collapsed": false
   },
   "outputs": [
    {
     "name": "stdout",
     "output_type": "stream",
     "text": [
      "Student data read successfully!\n"
     ]
    }
   ],
   "source": [
    "# Import libraries\n",
    "import numpy as np\n",
    "import pandas as pd\n",
    "from time import time\n",
    "from sklearn.metrics import f1_score\n",
    "\n",
    "# Read student data\n",
    "student_data = pd.read_csv(\"student-data.csv\")\n",
    "print \"Student data read successfully!\""
   ]
  },
  {
   "cell_type": "markdown",
   "metadata": {},
   "source": [
    "### Implementation: Data Exploration\n",
    "Let's begin by investigating the dataset to determine how many students we have information on, and learn about the graduation rate among these students. In the code cell below, you will need to compute the following:\n",
    "- The total number of students, `n_students`.\n",
    "- The total number of features for each student, `n_features`.\n",
    "- The number of those students who passed, `n_passed`.\n",
    "- The number of those students who failed, `n_failed`.\n",
    "- The graduation rate of the class, `grad_rate`, in percent (%).\n"
   ]
  },
  {
   "cell_type": "code",
   "execution_count": 2,
   "metadata": {
    "collapsed": false
   },
   "outputs": [
    {
     "name": "stdout",
     "output_type": "stream",
     "text": [
      "Total number of students: 395\n",
      "Number of features: 31\n",
      "Number of students who passed: 265\n",
      "Number of students who failed: 130\n",
      "Graduation rate of the class: 67.09%\n"
     ]
    }
   ],
   "source": [
    "# TODO: Calculate number of students\n",
    "n_students = len(student_data)\n",
    "\n",
    "# TODO: Calculate number of features\n",
    "n_features = student_data.shape[1]\n",
    "\n",
    "# TODO: Calculate passing students\n",
    "n_passed = (student_data['passed']=='yes').sum()\n",
    "\n",
    "# TODO: Calculate failing students\n",
    "n_failed = (student_data['passed']=='no').sum()\n",
    "\n",
    "# TODO: Calculate graduation rate\n",
    "grad_rate = float(n_passed)/n_students * 100 # in percentage\n",
    "\n",
    "# Print the results\n",
    "print \"Total number of students: {}\".format(n_students)\n",
    "print \"Number of features: {}\".format(n_features)\n",
    "print \"Number of students who passed: {}\".format(n_passed)\n",
    "print \"Number of students who failed: {}\".format(n_failed)\n",
    "print \"Graduation rate of the class: {:.2f}%\".format(grad_rate)"
   ]
  },
  {
   "cell_type": "markdown",
   "metadata": {},
   "source": [
    "## Preparing the Data\n",
    "In this section, we will prepare the data for modeling, training and testing.\n",
    "\n",
    "### Identify feature and target columns\n",
    "It is often the case that the data you obtain contains non-numeric features. This can be a problem, as most machine learning algorithms expect numeric data to perform computations with.\n",
    "\n",
    "Run the code cell below to separate the student data into feature and target columns to see if any features are non-numeric."
   ]
  },
  {
   "cell_type": "code",
   "execution_count": 3,
   "metadata": {
    "collapsed": false
   },
   "outputs": [
    {
     "name": "stdout",
     "output_type": "stream",
     "text": [
      "Feature columns:\n",
      "['school', 'sex', 'age', 'address', 'famsize', 'Pstatus', 'Medu', 'Fedu', 'Mjob', 'Fjob', 'reason', 'guardian', 'traveltime', 'studytime', 'failures', 'schoolsup', 'famsup', 'paid', 'activities', 'nursery', 'higher', 'internet', 'romantic', 'famrel', 'freetime', 'goout', 'Dalc', 'Walc', 'health', 'absences']\n",
      "\n",
      "Target column: passed\n",
      "\n",
      "Feature values:\n",
      "  school sex  age address famsize Pstatus  Medu  Fedu     Mjob      Fjob  \\\n",
      "0     GP   F   18       U     GT3       A     4     4  at_home   teacher   \n",
      "1     GP   F   17       U     GT3       T     1     1  at_home     other   \n",
      "2     GP   F   15       U     LE3       T     1     1  at_home     other   \n",
      "3     GP   F   15       U     GT3       T     4     2   health  services   \n",
      "4     GP   F   16       U     GT3       T     3     3    other     other   \n",
      "\n",
      "    ...    higher internet  romantic  famrel  freetime goout Dalc Walc health  \\\n",
      "0   ...       yes       no        no       4         3     4    1    1      3   \n",
      "1   ...       yes      yes        no       5         3     3    1    1      3   \n",
      "2   ...       yes      yes        no       4         3     2    2    3      3   \n",
      "3   ...       yes      yes       yes       3         2     2    1    1      5   \n",
      "4   ...       yes       no        no       4         3     2    1    2      5   \n",
      "\n",
      "  absences  \n",
      "0        6  \n",
      "1        4  \n",
      "2       10  \n",
      "3        2  \n",
      "4        4  \n",
      "\n",
      "[5 rows x 30 columns]\n"
     ]
    }
   ],
   "source": [
    "# Extract feature columns\n",
    "feature_cols = list(student_data.columns[:-1])\n",
    "\n",
    "# Extract target column 'passed'\n",
    "target_col = student_data.columns[-1] \n",
    "\n",
    "# Show the list of columns\n",
    "print \"Feature columns:\\n{}\".format(feature_cols)\n",
    "print \"\\nTarget column: {}\".format(target_col)\n",
    "\n",
    "# Separate the data into feature data and target data (X_all and y_all, respectively)\n",
    "X_all = student_data[feature_cols]\n",
    "y_all = student_data[target_col]\n",
    "\n",
    "# Show the feature information by printing the first five rows\n",
    "print \"\\nFeature values:\"\n",
    "print X_all.head()"
   ]
  },
  {
   "cell_type": "markdown",
   "metadata": {},
   "source": [
    "### Preprocess Feature Columns\n",
    "\n",
    "As you can see, there are several non-numeric columns that need to be converted! Many of them are simply `yes`/`no`, e.g. `internet`. These can be reasonably converted into `1`/`0` (binary) values.\n",
    "\n",
    "Other columns, like `Mjob` and `Fjob`, have more than two values, and are known as _categorical variables_. The recommended way to handle such a column is to create as many columns as possible values (e.g. `Fjob_teacher`, `Fjob_other`, `Fjob_services`, etc.), and assign a `1` to one of them and `0` to all others.\n",
    "\n",
    "These generated columns are sometimes called _dummy variables_, and we will use the [`pandas.get_dummies()`](http://pandas.pydata.org/pandas-docs/stable/generated/pandas.get_dummies.html?highlight=get_dummies#pandas.get_dummies) function to perform this transformation. Run the code cell below to perform the preprocessing routine discussed in this section."
   ]
  },
  {
   "cell_type": "code",
   "execution_count": 4,
   "metadata": {
    "collapsed": false
   },
   "outputs": [
    {
     "name": "stdout",
     "output_type": "stream",
     "text": [
      "Processed feature columns (48 total features):\n",
      "['school_GP', 'school_MS', 'sex_F', 'sex_M', 'age', 'address_R', 'address_U', 'famsize_GT3', 'famsize_LE3', 'Pstatus_A', 'Pstatus_T', 'Medu', 'Fedu', 'Mjob_at_home', 'Mjob_health', 'Mjob_other', 'Mjob_services', 'Mjob_teacher', 'Fjob_at_home', 'Fjob_health', 'Fjob_other', 'Fjob_services', 'Fjob_teacher', 'reason_course', 'reason_home', 'reason_other', 'reason_reputation', 'guardian_father', 'guardian_mother', 'guardian_other', 'traveltime', 'studytime', 'failures', 'schoolsup', 'famsup', 'paid', 'activities', 'nursery', 'higher', 'internet', 'romantic', 'famrel', 'freetime', 'goout', 'Dalc', 'Walc', 'health', 'absences']\n"
     ]
    }
   ],
   "source": [
    "def preprocess_features(X):\n",
    "    ''' Preprocesses the student data and converts non-numeric binary variables into\n",
    "        binary (0/1) variables. Converts categorical variables into dummy variables. '''\n",
    "    \n",
    "    # Initialize new output DataFrame\n",
    "    output = pd.DataFrame(index = X.index)\n",
    "\n",
    "    # Investigate each feature column for the data\n",
    "    for col, col_data in X.iteritems():\n",
    "        \n",
    "        # If data type is non-numeric, replace all yes/no values with 1/0\n",
    "        if col_data.dtype == object:\n",
    "            col_data = col_data.replace(['yes', 'no'], [1, 0])\n",
    "\n",
    "        # If data type is categorical, convert to dummy variables\n",
    "        if col_data.dtype == object:\n",
    "            # Example: 'school' => 'school_GP' and 'school_MS'\n",
    "            col_data = pd.get_dummies(col_data, prefix = col)  \n",
    "        \n",
    "        # Collect the revised columns\n",
    "        output = output.join(col_data)\n",
    "    \n",
    "    return output\n",
    "\n",
    "X_all = preprocess_features(X_all)\n",
    "print \"Processed feature columns ({} total features):\\n{}\".format(len(X_all.columns), list(X_all.columns))"
   ]
  },
  {
   "cell_type": "markdown",
   "metadata": {},
   "source": [
    "### Implementation: Training and Testing Data Split\n",
    "So far, we have converted all _categorical_ features into numeric values. For the next step, we split the data (both features and corresponding labels) into training and test sets. In the following code cell below, you will need to implement the following:\n",
    "- Randomly shuffle and split the data (`X_all`, `y_all`) into training and testing subsets.\n",
    "  - Use 300 training points (approximately 75%) and 95 testing points (approximately 25%).\n",
    "  - Set a `random_state` for the function(s) you use, if provided.\n",
    "  - Store the results in `X_train`, `X_test`, `y_train`, and `y_test`."
   ]
  },
  {
   "cell_type": "code",
   "execution_count": 5,
   "metadata": {
    "collapsed": false
   },
   "outputs": [
    {
     "name": "stdout",
     "output_type": "stream",
     "text": [
      "Training set has 300 samples.\n",
      "Testing set has 95 samples.\n"
     ]
    }
   ],
   "source": [
    "# TODO: Import any additional functionality you may need here\n",
    "from sklearn.cross_validation import train_test_split\n",
    "# TODO: Set the number of training points\n",
    "num_train = 300\n",
    "\n",
    "# Set the number of testing points\n",
    "num_test = X_all.shape[0] - num_train\n",
    "\n",
    "# TODO: Shuffle and split the dataset into the number of training and testing points above\n",
    "X_train, X_test, y_train, y_test = train_test_split(X_all, y_all, test_size=num_test, random_state=897)\n",
    "\n",
    "\n",
    "# Show the results of the split\n",
    "print \"Training set has {} samples.\".format(X_train.shape[0])\n",
    "print \"Testing set has {} samples.\".format(X_test.shape[0])"
   ]
  },
  {
   "cell_type": "markdown",
   "metadata": {},
   "source": [
    "## Training and Evaluating Models\n",
    "In this section, you will choose 3 supervised learning models that are appropriate for this problem and available in `scikit-learn`. You will first discuss the reasoning behind choosing these three models by considering what you know about the data and each model's strengths and weaknesses. You will then fit the model to varying sizes of training data (100 data points, 200 data points, and 300 data points) and measure the F<sub>1</sub> score. You will need to produce three tables (one for each model) that shows the training set size, training time, prediction time, F<sub>1</sub> score on the training set, and F<sub>1</sub> score on the testing set."
   ]
  },
  {
   "cell_type": "markdown",
   "metadata": {},
   "source": [
    "### Question 2 - Model Application\n",
    "*List three supervised learning models that are appropriate for this problem. What are the general applications of each model? What are their strengths and weaknesses? Given what you know about the data, why did you choose these models to be applied?*"
   ]
  },
  {
   "cell_type": "markdown",
   "metadata": {},
   "source": [
    "**Answer: **\n",
    "\n",
    "Our problem is a supervised binary classification problem. Support Vector Machine, Naive Bayes Classifier and K Nearest Neighbors are common models for solving this type of problems.\n",
    "\n",
    "* **Support Vector Machines**\n",
    "    - Support Vector Machines(SVMs) with the aid of kernel methods solves supervised classification problems by finding the decision boundary which maximizes the margin. The simplest SVM is desinged to separate linearly separable binary classes. By introducing kernel methods, it allows to project linearly non-separable data into a hyperplane (transform data so that it is linearly separable) and then apply SVM to find the desired deicision boundary.\n",
    "    - Strengths:\n",
    "        - In practice often it works well and produces good results in complicated domains with a clear margin separation.\n",
    "        - It is somewhat robust to outliers.\n",
    "        - SVMs with kernel tricks are powerful and can be used to address some non-linearly separable classes problems\n",
    "        - The idea of \"maximum margin\" behind SVMs is easy to understand (even though mathmatically it may not be the case).\n",
    "        - The numerical solution to the \"maximize margin\" problem can be translated into quadratic programming problem, which is a well understood and well studied linear algebra problem.\n",
    "    - Weaknesses:\n",
    "        - It's originally designed for binary class separation, although there are ways to reduce multi-class tasks to several binary class problems and then apply SVMs.\n",
    "        - SVMs are computationally expensive: SVMs' time complexity is about O(n^3) where n is the size of the data, therefore it takes a long time to run with big data size.\n",
    "        - It also does not perform well when there are a lot of noises in the data or when the data does not have a clear separable margin.\n",
    "        - The parameters of the fitted model are difficult to intepret.\n",
    "\n",
    "* **Naive Bayes Classifier**\n",
    "    - Naive Bayes Classifier is a type of simple probabilistic classifiers. It applies Bayes' Theorem at heart to compute the probability of a sample point being a certain class given their features, then classify the sample point into the class with highest computed probability.\n",
    "    - Strengths:\n",
    "        - Easy to interpret and easy to implement\n",
    "        - It can deal with high input feature dimensions\n",
    "        - It's computational efficient\n",
    "        - Empirically it works well with natural langauge processing problems\n",
    "        - It connects inference with classification\n",
    "    - Weaknesses:\n",
    "        - The model assumes that different attributes are independent, which often are not the case in reality. Although in practices, a lot of times when attributes are not independent, the models still produce good result. However sometimes Naive Bayes Classifier might not work well due to the violation of this assumption.\n",
    "        - It might not perform well if the samples/data used to train the model are not a representative drawn of the population. For instance, when a value of an attribute has never been seen to be associated with a label in the training set, the probability for this combination could be estimated to zero.\n",
    "\n",
    "* **K Nearest Neighbors Classifier**\n",
    "    - K Nearest Neighbors Classifier is an instance based non-parametric classifier. It uses a defined similarity measuring metric, and then classifies the unseen data point by finding the K similariest sample points in the training set and *consulting* their labels. Commonly, the weights of the K similariest sample points can be set to be uniform or weighted by distance.\n",
    "    - Strengthes:\n",
    "        - Regarded as *lazy* classifier, it is very cheap and fast to train the model\n",
    "        - The algorithm is simple and easy to implement, understand and intepret\n",
    "        - Empirically it works well and is robust to noisy large dataset.\n",
    "    - Weakness:\n",
    "        - As a non-parametric classifier, it requires a lot of space to store all the training data.\n",
    "        - Since making prediction requires to compute the similarities bewteen new data point and every sample point in the training set, the training time can be long if the data set is large\n",
    "        - Need to determine K and distance metric, which may seem unclear and need a lot of experiments\n",
    "        - It regards every attribute equally important, although it can be solved by applying different weights on different attributes. \n",
    "\n",
    "* **Neural Network Classifiers**\n",
    "    - Neural Network Classifiers are computational networks built up using (single layer or multilayer) perceptrons to solve supervised classification problems. A perceptron is a linear classifier used to solve supervised binary classification problems. It works by finding the appropriate weights for input attributes, and then compare the sum of weighted attributes with respect to a given threshold which could separate two different classes. Gradient descent and/or delta rule are often used to compute the *appropriate* weights for producing a good classifier. When multilayer perceptrons are desired, commonly backpropagation algorithm is used to train the model.\n",
    "    - Strengths:\n",
    "        - Neural network have relatively low restriction biases, which gives it power to represent different and complex functions (linear or non-linear). \n",
    "        - When the model structure, learning algorithms, and model parameters are choosen appropriately, the fitted model could be very robust and perform very well.\n",
    "    - Weaknesses:\n",
    "        - It is difficult to intepret the parameters/weights of the fitted model\n",
    "        - It behaves like \"black box\" system, it is hard to intepret the relationship between the inputs and the outputs from a fitted model\n",
    "        - It requires a lot of resources to train and tune a neural network model"
   ]
  },
  {
   "cell_type": "markdown",
   "metadata": {},
   "source": [
    "### Setup\n",
    "Run the code cell below to initialize three helper functions which you can use for training and testing the three supervised learning models you've chosen above. The functions are as follows:\n",
    "- `train_classifier` - takes as input a classifier and training data and fits the classifier to the data.\n",
    "- `predict_labels` - takes as input a fit classifier, features, and a target labeling and makes predictions using the F<sub>1</sub> score.\n",
    "- `train_predict` - takes as input a classifier, and the training and testing data, and performs `train_clasifier` and `predict_labels`.\n",
    " - This function will report the F<sub>1</sub> score for both the training and testing data separately."
   ]
  },
  {
   "cell_type": "code",
   "execution_count": 6,
   "metadata": {
    "collapsed": false
   },
   "outputs": [],
   "source": [
    "def train_classifier(clf, X_train, y_train):\n",
    "    ''' Fits a classifier to the training data. '''\n",
    "    \n",
    "    # Start the clock, train the classifier, then stop the clock\n",
    "    start = time()\n",
    "    clf.fit(X_train, y_train)\n",
    "    end = time()\n",
    "    \n",
    "    # Print the results\n",
    "    print \"Trained model in {:.4f} seconds\".format(end - start)\n",
    "    \n",
    "\n",
    "    \n",
    "def predict_labels(clf, features, target):\n",
    "    ''' Makes predictions using a fit classifier based on F1 score. '''\n",
    "    \n",
    "    # Start the clock, make predictions, then stop the clock\n",
    "    start = time()\n",
    "    y_pred = clf.predict(features)\n",
    "    end = time()\n",
    "    \n",
    "    # Print and return results\n",
    "    print \"Made predictions in {:.4f} seconds.\".format(end - start)\n",
    "    return f1_score(target.values, y_pred, pos_label='yes')\n",
    "\n",
    "\n",
    "def train_predict(clf, X_train, y_train, X_test, y_test):\n",
    "    ''' Train and predict using a classifer based on F1 score. '''\n",
    "    \n",
    "    # Indicate the classifier and the training set size\n",
    "    print \"Training a {} using a training set size of {}. . .\".format(clf.__class__.__name__, len(X_train))\n",
    "    \n",
    "    # Train the classifier\n",
    "    train_classifier(clf, X_train, y_train)\n",
    "    \n",
    "    # Print the results of prediction for both training and testing\n",
    "    print \"F1 score for training set: {:.4f}.\".format(predict_labels(clf, X_train, y_train))\n",
    "    print \"F1 score for test set: {:.4f}.\".format(predict_labels(clf, X_test, y_test))"
   ]
  },
  {
   "cell_type": "markdown",
   "metadata": {},
   "source": [
    "### Implementation: Model Performance Metrics\n",
    "With the predefined functions above, you will now import the three supervised learning models of your choice and run the `train_predict` function for each one. Remember that you will need to train and predict on each classifier for three different training set sizes: 100, 200, and 300. Hence, you should expect to have 9 different outputs below — 3 for each model using the varying training set sizes. In the following code cell, you will need to implement the following:\n",
    "- Import the three supervised learning models you've discussed in the previous section.\n",
    "- Initialize the three models and store them in `clf_A`, `clf_B`, and `clf_C`.\n",
    " - Use a `random_state` for each model you use, if provided.\n",
    " - **Note:** Use the default settings for each model — you will tune one specific model in a later section.\n",
    "- Create the different training set sizes to be used to train each model.\n",
    " - *Do not reshuffle and resplit the data! The new training points should be drawn from `X_train` and `y_train`.*\n",
    "- Fit each model with each training set size and make predictions on the test set (9 in total).  \n",
    "**Note:** Three tables are provided after the following code cell which can be used to store your results."
   ]
  },
  {
   "cell_type": "code",
   "execution_count": 7,
   "metadata": {
    "collapsed": false
   },
   "outputs": [
    {
     "name": "stdout",
     "output_type": "stream",
     "text": [
      "===============  svc  =================\n",
      "------------------------------\n",
      "Training a SVC using a training set size of 100. . .\n",
      "Trained model in 0.0020 seconds\n",
      "Made predictions in 0.0008 seconds.\n",
      "F1 score for training set: 0.8481.\n",
      "Made predictions in 0.0011 seconds.\n",
      "F1 score for test set: 0.7467.\n",
      "------------------------------\n",
      "Training a SVC using a training set size of 200. . .\n",
      "Trained model in 0.0043 seconds\n",
      "Made predictions in 0.0038 seconds.\n",
      "F1 score for training set: 0.8616.\n",
      "Made predictions in 0.0020 seconds.\n",
      "F1 score for test set: 0.7619.\n",
      "------------------------------\n",
      "Training a SVC using a training set size of 300. . .\n",
      "Trained model in 0.0072 seconds\n",
      "Made predictions in 0.0087 seconds.\n",
      "F1 score for training set: 0.8703.\n",
      "Made predictions in 0.0015 seconds.\n",
      "F1 score for test set: 0.7586.\n",
      "===============  gnb  =================\n",
      "------------------------------\n",
      "Training a GaussianNB using a training set size of 100. . .\n",
      "Trained model in 0.0007 seconds\n",
      "Made predictions in 0.0003 seconds.\n",
      "F1 score for training set: 0.8296.\n",
      "Made predictions in 0.0003 seconds.\n",
      "F1 score for test set: 0.7167.\n",
      "------------------------------\n",
      "Training a GaussianNB using a training set size of 200. . .\n",
      "Trained model in 0.0008 seconds\n",
      "Made predictions in 0.0014 seconds.\n",
      "F1 score for training set: 0.7957.\n",
      "Made predictions in 0.0003 seconds.\n",
      "F1 score for test set: 0.7460.\n",
      "------------------------------\n",
      "Training a GaussianNB using a training set size of 300. . .\n",
      "Trained model in 0.0008 seconds\n",
      "Made predictions in 0.0004 seconds.\n",
      "F1 score for training set: 0.7952.\n",
      "Made predictions in 0.0005 seconds.\n",
      "F1 score for test set: 0.7642.\n",
      "===============  knn  =================\n",
      "------------------------------\n",
      "Training a KNeighborsClassifier using a training set size of 100. . .\n",
      "Trained model in 0.0009 seconds\n",
      "Made predictions in 0.0019 seconds.\n",
      "F1 score for training set: 0.8553.\n",
      "Made predictions in 0.0023 seconds.\n",
      "F1 score for test set: 0.7121.\n",
      "------------------------------\n",
      "Training a KNeighborsClassifier using a training set size of 200. . .\n",
      "Trained model in 0.0006 seconds\n",
      "Made predictions in 0.0026 seconds.\n",
      "F1 score for training set: 0.8469.\n",
      "Made predictions in 0.0028 seconds.\n",
      "F1 score for test set: 0.7286.\n",
      "------------------------------\n",
      "Training a KNeighborsClassifier using a training set size of 300. . .\n",
      "Trained model in 0.0012 seconds\n",
      "Made predictions in 0.0053 seconds.\n",
      "F1 score for training set: 0.8690.\n",
      "Made predictions in 0.0026 seconds.\n",
      "F1 score for test set: 0.7556.\n"
     ]
    }
   ],
   "source": [
    "# TODO: Import the three supervised learning models from sklearn\n",
    "from sklearn.svm import SVC\n",
    "from sklearn.naive_bayes import GaussianNB\n",
    "from sklearn.neighbors import KNeighborsClassifier\n",
    "\n",
    "# TODO: Initialize the three models\n",
    "clf_svc = SVC(random_state=672)\n",
    "clf_gnb = GaussianNB()\n",
    "clf_knn = KNeighborsClassifier()\n",
    "\n",
    "# TODO: Set up the training set sizes\n",
    "X_train_100 = X_train.iloc[:100]\n",
    "y_train_100 = y_train.iloc[:100]\n",
    "\n",
    "X_train_200 = X_train.iloc[:200]\n",
    "y_train_200 = y_train.iloc[:200]\n",
    "\n",
    "X_train_300 = X_train.iloc[:]\n",
    "y_train_300 = y_train.iloc[:]\n",
    "\n",
    "# TODO: Execute the 'train_predict' function for each classifier and each training set size\n",
    "X_train_pre, y_train_pre = \"X_train_\", \"y_train_\"\n",
    "sizes = [\"100\", \"200\", \"300\"]\n",
    "clf_pre = \"clf_\"\n",
    "clf_ids = ['svc','gnb','knn']\n",
    "for cid in clf_ids:\n",
    "    print \"=============== \",cid,\" =================\"\n",
    "    clf_name = clf_pre+cid\n",
    "    for s in sizes:\n",
    "        print \"------------------------------\"\n",
    "        X_train_name = X_train_pre + s\n",
    "        y_train_name = y_train_pre + s\n",
    "        train_predict(eval(clf_name), eval(X_train_name), eval(y_train_name), X_test, y_test)\n",
    "\n",
    "#train_predict(clf_A, X_train, y_train, X_test, y_test)"
   ]
  },
  {
   "cell_type": "markdown",
   "metadata": {},
   "source": [
    "### Tabular Results\n",
    "Edit the cell below to see how a table can be designed in [Markdown](https://github.com/adam-p/markdown-here/wiki/Markdown-Cheatsheet#tables). You can record your results from above in the tables provided."
   ]
  },
  {
   "cell_type": "markdown",
   "metadata": {},
   "source": [
    "** Classifer 1 - Support Vector Machine**  \n",
    "\n",
    "| Training Set Size | Training Time | Prediction Time (test) | F1 Score (train) | F1 Score (test) |\n",
    "| :---------------: | :---------------------: | :--------------------: | :--------------: | :-------------: |\n",
    "| 100               |        0.0020           |        0.0011          |     0.8481       |     0.7467      |\n",
    "| 200               |        0.0043           |        0.0020          |     0.8616       |     0.7619      |\n",
    "| 300               |        0.0072           |        0.0015          |     0.8703       |     0.7586      |\n",
    "\n",
    "** Classifer 2 - Gaussian Naive Bayes**  \n",
    "\n",
    "| Training Set Size | Training Time | Prediction Time (test) | F1 Score (train) | F1 Score (test) |\n",
    "| :---------------: | :---------------------: | :--------------------: | :--------------: | :-------------: |\n",
    "| 100               |        0.0007           |        0.0003          |      0.8296      |     0.7167      |\n",
    "| 200               |        0.0008           |        0.0003          |      0.7957      |     0.7460      |\n",
    "| 300               |        0.0008           |        0.0005          |      0.7952      |     0.7642      |\n",
    "\n",
    "** Classifer 3 - K Nearest Neighbors**  \n",
    "\n",
    "| Training Set Size | Training Time | Prediction Time (test) | F1 Score (train) | F1 Score (test) |\n",
    "| :---------------: | :---------------------: | :--------------------: | :--------------: | :-------------: |\n",
    "| 100               |        0.0009           |        0.0023          |      0.8553      |      0.7121     |\n",
    "| 200               |        0.0006           |        0.0028          |      0.8469      |      0.7286     |\n",
    "| 300               |        0.0012           |        0.0026          |      0.8690      |      0.7556     |"
   ]
  },
  {
   "cell_type": "markdown",
   "metadata": {},
   "source": [
    "## Choosing the Best Model\n",
    "In this final section, you will choose from the three supervised learning models the *best* model to use on the student data. You will then perform a grid search optimization for the model over the entire training set (`X_train` and `y_train`) by tuning at least one parameter to improve upon the untuned model's F<sub>1</sub> score. "
   ]
  },
  {
   "cell_type": "markdown",
   "metadata": {},
   "source": [
    "### Question 3 - Chosing the Best Model\n",
    "*Based on the experiments you performed earlier, in one to two paragraphs, explain to the board of supervisors what single model you chose as the best model. Which model is generally the most appropriate based on the available data, limited resources, cost, and performance?*"
   ]
  },
  {
   "cell_type": "markdown",
   "metadata": {},
   "source": [
    "**Answer: **\n",
    "\n",
    "- Model Performance Analysis - figures in next section\n",
    "    - Support Vector Machine: The training f1 scores increase with the increasing of training sizes. The testing f1 scores fluctuate around 0.75 ish. The gap between the blue line (training score) and the orange line (test score) remains roughly unchanged. Therefore despite that increasing training size seems to improve the performance on training set, it does not seem to help improve the fitted model's performance on unseen data. The trained Support Vector Machine model seems to be overfitted to the training set and has high variances, hence not generalize to test set very well.\n",
    "    - Gaussian Naive Bayes model: The training f1 scores decrease slightly with an increasing training sizes, whereas the testing f1 scores increase with an increasing training sizes. As it is shown in the figure, the gap between two lines decrease with increasing training sizes. This indicates that with an increasing training size, the fitted Gaussian Naive Bayes model is getting better at generalizing to unseen data (decreasing model variance).\n",
    "    - K Nearest Neighbors: The training f1 scores produced by using 3 different training sizes stay at around 0.85 with small variations; whereas the testing f1 scores demonstrate a increasing trend. The distance between the training score line and the testing score line decreases gradually. This implies that the fitted model variances decrease with the increasing training sizes, and it generalizes better to unseen data when the training data size is bigger.\n",
    "- Model Efficiency Analysis\n",
    "    - Support Vector Machine: It is relatively slow to train a support vector machine model, and the training time increases significantly with the size of the training data. The prediction time cost is moderate among the three choosen models.\n",
    "    - Gaussian Naive Bayes: It is the fastest to train and make prediction using Gaussian Naive Bayes.\n",
    "    - K Nearest Neighbors: It is very fast to train the model, however it's relatively slow to make predictions using K Nearest Neighbors.\n",
    "- Summary\n",
    "    - Gaussian Naive Bayes model appears to perform relatively well in training sets and generalize well to unseen data, meanwhile it is time efficient and adapt well with the given small data sizes. K Nearest Neighbors model shows potential in achieving competitive well performance with respect to Gaussian Naive Bayes model. It is also very cheap to train the model, although more expensive to make prediction as compared to Gaussian Naive Bayes. *Since Gaussian Naive Bayes has no hyper-parameters, **K Nearest Neighbors** model is choosen and the model tuning in next section is performed upon K Nearest Neighbors model.*"
   ]
  },
  {
   "cell_type": "code",
   "execution_count": 8,
   "metadata": {
    "collapsed": false
   },
   "outputs": [],
   "source": [
    "svm_train = [0.8481, 0.8616, 0.8703]\n",
    "svm_test  = [0.7167, 0.7619, 0.7586]\n",
    "gnb_train = [0.8296, 0.7957, 0.7952]\n",
    "gnb_test  = [0.7167, 0.7460, 0.7642]\n",
    "knn_train = [0.8553, 0.8469, 0.8690]\n",
    "knn_test  = [0.7121, 0.7286, 0.7556]\n",
    "\n",
    "f1_scores_df = pd.DataFrame({'size' : [100,200,300]*2,    'label': ['train']*3+['test']*3,\n",
    "                             'Support Vector Machine'  : svm_train+svm_test,\n",
    "                             'Gaussian Naive Bayes'    : gnb_train+gnb_test,\n",
    "                             'K Nearest Neighbors'     : knn_train+knn_test})"
   ]
  },
  {
   "cell_type": "code",
   "execution_count": 9,
   "metadata": {
    "collapsed": false
   },
   "outputs": [
    {
     "data": {
      "text/html": [
       "<div>\n",
       "<table border=\"1\" class=\"dataframe\">\n",
       "  <thead>\n",
       "    <tr style=\"text-align: right;\">\n",
       "      <th></th>\n",
       "      <th>size</th>\n",
       "      <th>label</th>\n",
       "      <th>variable</th>\n",
       "      <th>value</th>\n",
       "    </tr>\n",
       "  </thead>\n",
       "  <tbody>\n",
       "    <tr>\n",
       "      <th>0</th>\n",
       "      <td>100</td>\n",
       "      <td>train</td>\n",
       "      <td>Gaussian Naive Bayes</td>\n",
       "      <td>0.8296</td>\n",
       "    </tr>\n",
       "    <tr>\n",
       "      <th>1</th>\n",
       "      <td>200</td>\n",
       "      <td>train</td>\n",
       "      <td>Gaussian Naive Bayes</td>\n",
       "      <td>0.7957</td>\n",
       "    </tr>\n",
       "    <tr>\n",
       "      <th>2</th>\n",
       "      <td>300</td>\n",
       "      <td>train</td>\n",
       "      <td>Gaussian Naive Bayes</td>\n",
       "      <td>0.7952</td>\n",
       "    </tr>\n",
       "    <tr>\n",
       "      <th>3</th>\n",
       "      <td>100</td>\n",
       "      <td>test</td>\n",
       "      <td>Gaussian Naive Bayes</td>\n",
       "      <td>0.7167</td>\n",
       "    </tr>\n",
       "    <tr>\n",
       "      <th>4</th>\n",
       "      <td>200</td>\n",
       "      <td>test</td>\n",
       "      <td>Gaussian Naive Bayes</td>\n",
       "      <td>0.7460</td>\n",
       "    </tr>\n",
       "  </tbody>\n",
       "</table>\n",
       "</div>"
      ],
      "text/plain": [
       "   size  label              variable   value\n",
       "0   100  train  Gaussian Naive Bayes  0.8296\n",
       "1   200  train  Gaussian Naive Bayes  0.7957\n",
       "2   300  train  Gaussian Naive Bayes  0.7952\n",
       "3   100   test  Gaussian Naive Bayes  0.7167\n",
       "4   200   test  Gaussian Naive Bayes  0.7460"
      ]
     },
     "execution_count": 9,
     "metadata": {},
     "output_type": "execute_result"
    }
   ],
   "source": [
    "f1_scores_long = pd.melt(f1_scores_df, id_vars=['size','label'])\n",
    "f1_scores_long.head()"
   ]
  },
  {
   "cell_type": "code",
   "execution_count": 10,
   "metadata": {
    "collapsed": false
   },
   "outputs": [
    {
     "data": {
      "image/png": "[encoded data removed]",
      "text/plain": [
       "<matplotlib.figure.Figure at 0x10f36ae90>"
      ]
     },
     "metadata": {},
     "output_type": "display_data"
    },
    {
     "data": {
      "text/plain": [
       "<ggplot: (283008269)>"
      ]
     },
     "execution_count": 10,
     "metadata": {},
     "output_type": "execute_result"
    }
   ],
   "source": [
    "%matplotlib inline\n",
    "from ggplot import ggplot, aes, geom_line, facet_wrap, geom_point, xlab, ylab, ggtitle\n",
    "from ggplot import scale_x_continuous, scale_y_continuous\n",
    "p = ggplot(f1_scores_long, aes(x='size',y='value',color='label')) + geom_point() + geom_line() \\\n",
    "    + facet_wrap('variable')\\\n",
    "    + xlab('training size') + ylab('f1 score') + ggtitle('Model Performances') \\\n",
    "    + scale_x_continuous(limits=[100,300],breaks=[100,200,300]) \\\n",
    "    + scale_y_continuous(limits=[0.6, 1.0])\n",
    "p"
   ]
  },
  {
   "cell_type": "markdown",
   "metadata": {},
   "source": [
    "### Question 4 - Model in Layman's Terms\n",
    "*In one to two paragraphs, explain to the board of directors in layman's terms how the final model chosen is supposed to work. For example if you've chosen to use a decision tree or a support vector machine, how does the model go about making a prediction?*"
   ]
  },
  {
   "cell_type": "markdown",
   "metadata": {},
   "source": [
    "**Answer: **\n",
    "\n",
    "The **K Nearest Neighbors** model first determines an appropriate similarity measuring metric, then compute the *distances* between an unclassified data point and every sample point in the training set based on the similarity metric. All the distances are then sorted, and the cloest/nearest *K* training data points are selected to form a *committee board*. The label of the unclassified data point is determined based on the labels of the sample points in the *committee board* using certain kind of voting mechanism."
   ]
  },
  {
   "cell_type": "markdown",
   "metadata": {},
   "source": [
    "### Implementation: Model Tuning\n",
    "Fine tune the chosen model. Use grid search (`GridSearchCV`) with at least one important parameter tuned with at least 3 different values. You will need to use the entire training set for this. In the code cell below, you will need to implement the following:\n",
    "- Import [`sklearn.grid_search.gridSearchCV`](http://scikit-learn.org/stable/modules/generated/sklearn.grid_search.GridSearchCV.html) and [`sklearn.metrics.make_scorer`](http://scikit-learn.org/stable/modules/generated/sklearn.metrics.make_scorer.html).\n",
    "- Create a dictionary of parameters you wish to tune for the chosen model.\n",
    " - Example: `parameters = {'parameter' : [list of values]}`.\n",
    "- Initialize the classifier you've chosen and store it in `clf`.\n",
    "- Create the F<sub>1</sub> scoring function using `make_scorer` and store it in `f1_scorer`.\n",
    " - Set the `pos_label` parameter to the correct value!\n",
    "- Perform grid search on the classifier `clf` using `f1_scorer` as the scoring method, and store it in `grid_obj`.\n",
    "- Fit the grid search object to the training data (`X_train`, `y_train`), and store it in `grid_obj`."
   ]
  },
  {
   "cell_type": "code",
   "execution_count": 11,
   "metadata": {
    "collapsed": false
   },
   "outputs": [
    {
     "name": "stdout",
     "output_type": "stream",
     "text": [
      "Made predictions in 0.0063 seconds.\n",
      "Tuned model has a training F1 score of 0.8419.\n",
      "Made predictions in 0.0023 seconds.\n",
      "Tuned model has a testing F1 score of 0.7755.\n"
     ]
    }
   ],
   "source": [
    "# TODO: Import 'GridSearchCV' and 'make_scorer'\n",
    "from sklearn.grid_search import GridSearchCV\n",
    "from sklearn.metrics import make_scorer\n",
    "# TODO: Create the parameters list you wish to tune\n",
    "parameters = {'n_neighbors' : [3, 5, 7, 10, 15, 20],\n",
    "              'weights'    : ['uniform', 'distance'],\n",
    "              'algorithm': ['auto', 'ball_tree', 'kd_tree','brute'],\n",
    "              'leaf_size' : [10, 20, 30, 40, 50, 60],\n",
    "              'metric' : ['euclidean', 'minkowski', 'chebyshev', 'manhattan']}\n",
    "\n",
    "# TODO: Initialize the classifier\n",
    "clf = KNeighborsClassifier()\n",
    "\n",
    "# TODO: Make an f1 scoring function using 'make_scorer' \n",
    "f1_scorer = make_scorer(f1_score, pos_label='yes')\n",
    "\n",
    "# TODO: Perform grid search on the classifier using the f1_scorer as the scoring method\n",
    "grid_obj = GridSearchCV(estimator=clf, param_grid=parameters,scoring=f1_scorer)\n",
    "\n",
    "# TODO: Fit the grid search object to the training data and find the optimal parameters\n",
    "grid_obj = grid_obj.fit(X_train, y_train)\n",
    "\n",
    "# Get the estimator\n",
    "clf = grid_obj.best_estimator_\n",
    "\n",
    "# Report the final F1 score for training and testing after parameter tuning\n",
    "print \"Tuned model has a training F1 score of {:.4f}.\".format(predict_labels(clf, X_train, y_train))\n",
    "print \"Tuned model has a testing F1 score of {:.4f}.\".format(predict_labels(clf, X_test, y_test))"
   ]
  },
  {
   "cell_type": "markdown",
   "metadata": {},
   "source": [
    "### Question 5 - Final F<sub>1</sub> Score\n",
    "*What is the final model's F<sub>1</sub> score for training and testing? How does that score compare to the untuned model?*"
   ]
  },
  {
   "cell_type": "markdown",
   "metadata": {},
   "source": [
    "**Answer: **\n",
    "\n",
    "The final model's F1 score is **0.8419** for the training set, and **0.7755** for the testing set. The tuned model's F1 score for training set is roughly the same as the untuned model, however the performance on the testing set is better than the untuned model.\n",
    "\n",
    "It is worth mention that *tuned K Nearest Neighbors* model performs slightly better than the *Gaussian Naive Bayes* model. "
   ]
  },
  {
   "cell_type": "markdown",
   "metadata": {},
   "source": [
    "> **Note**: Once you have completed all of the code implementations and successfully answered each question above, you may finalize your work by exporting the iPython Notebook as an HTML document. You can do this by using the menu above and navigating to  \n",
    "**File -> Download as -> HTML (.html)**. Include the finished document along with this notebook as your submission."
   ]
  }
 ],
 "metadata": {
  "kernelspec": {
   "display_name": "Python 2",
   "language": "python",
   "name": "python2"
  },
  "language_info": {
   "codemirror_mode": {
    "name": "ipython",
    "version": 2
   },
   "file_extension": ".py",
   "mimetype": "text/x-python",
   "name": "python",
   "nbconvert_exporter": "python",
   "pygments_lexer": "ipython2",
   "version": "2.7.12"
  }
 },
 "nbformat": 4,
 "nbformat_minor": 0
}
