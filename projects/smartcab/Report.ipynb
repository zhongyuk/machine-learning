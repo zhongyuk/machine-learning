{
 "cells": [
  {
   "cell_type": "markdown",
   "metadata": {},
   "source": [
    "## Implement a Basic Driving Agent\n",
    "\n",
    "**QUESTION** Observe what you see with the agent's behavior as it takes random actions. Does the **smartcab** eventually make it to the destination? Are there any other interesting observations to note?\n",
    "\n",
    "**ANSWER**\n",
    "*When set the agent to take random actons, the **smartcab** would drive around randomly. After letting it drives around for long enough, eventually, sometimes it gets lucky and it does make it to the destination. But it appears to be completely random and due to luck. It also appears that the **smartcab** would sometimes break transportation rules and run into accidents, but it does not seem to learn from mistakes. Its behavior does not seem to improve even after recieving penalty, nor does it appear to responding to rewards.*\n",
    "***"
   ]
  },
  {
   "cell_type": "markdown",
   "metadata": {},
   "source": [
    "## Inform the Driving Agent\n",
    "\n",
    "**QUESTION** What states have you identified that are appropriate for modeling the smartcab and environment? Why do you believe each of these states to be appropriate for this problem?\n",
    "\n",
    "**ANSWER** \n",
    "*The self.state `[self.state=(inputs['light'], inputs['oncoming'], inputs['left'], inputs['right'], self.next_waypoint)]` attribute for LearningAgent is set to be taking the following three conditions into consideration as for the purpose of modeling the smartcab and its environment: 1) the transportation light (green or red); 2) the traffic situation at the intersection (whether or not there is traffic in the oncoming, left, and right directions); 3) the planned next way point. The overall goal of one smartcab trip is to get to the destination **without violating transportation rules nor running into accidents** as fast as possible, hence the state of transportation light of an intersection is important state information to inform the LearningAgent so that it could learn not to violate transportation rule (would receive negative rewards if it violates). The information regarding to traffic state around the smartcab and its next way point is crucial for teaching the LearningAgent to drive safely. The agent's variable `[deadline]` is another factor which is potentially useful state information, however it was not added into forming the LearningAgent's self.state attribute. Because adding `[deadline]` expands the number of self.state by a factor of 20~30. The solution to the MDP problem asks the algorithm to visit every states infinitely often, given the setting of the number of simulation trial runs (~100), a relatively smaller size of self.state is more desireable. In addition, the practical training result of this self.state setting without `[deadline]` info seems to be good enough. (details see the following sections)*\n",
    "***\n",
    "**QUESTION** How many states in total exist for the smartcab in this environment? Does this number seem reasonable given that the goal of Q-Learning is to learn and make informed decisions about each state? Why or why not?\n",
    "\n",
    "**ANSWER**\n",
    "*There are 32 states in total exist for the smartcab in this environment. This number seems reasonable for Q-Learning to learn and make informed decisions about each state. If set the trial run number of the simulation to be 100, and assume that for each trial simulation run, the smartcab takes 20 actions and experiences 20 states on average before it terminates (either because of successfully reach the destination or trip aborts due to run out of time), so the smartcab is expected to experience ~2000 states in total. This number seems to be reasonably large enough to ensure that all 32 states would be appeared/seen so that Q-Learning could learn about.*"
   ]
  },
  {
   "cell_type": "markdown",
   "metadata": {},
   "source": [
    "## Implement a Q-Learning Agent\n",
    "\n",
    "**QUESTION** What changes do you notice in the agent's behavior when compared to the basic driving agent when random actions were always taken? Why is this behavior occurring?\n",
    "\n",
    "**ANSWER**\n",
    "*After implementing Q-Learning, the agent appears to be no longer randomly driving around, and it seems to be responding to the rewards and penalties that its receiving after taking certain actions while its at certain states. Its rate of deliverying customer to destination before time runs out obviously has improved as compared to when it's taking random behaviors. The reason for this difference is that Q-Learning algorithm `[Q(state, action) = Immediate_Reward + discount_factor x argmax (Q(future_state, future_action))]` is teaching the agent by rewarding agent's correct behavior (positive rewards for taking the right action at the right state), and punishing its incorrect behavior (negative rewards if it violates transportation rule or runs into accidents). *"
   ]
  },
  {
   "cell_type": "markdown",
   "metadata": {},
   "source": [
    "## Improve the Q-Learning Driving Agent\n",
    "\n",
    "**QUESTION** Report the different values for the parameters tuned in your basic implementation of Q-Learning. For which set of parameters does the agent perform best? How well does the final driving agent perform?\n",
    "\n",
    "**ANSWER**\n",
    "\n",
    "**QUESTION**  Does your agent get close to finding an optimal policy, i.e. reach the destination in the minimum possible time, and not incur any penalties? How would you describe an optimal policy for this problem?\n",
    "\n",
    "**ANSWER**"
   ]
  },
  {
   "cell_type": "markdown",
   "metadata": {},
   "source": [
    "### Q-Learning Parameter Tuning"
   ]
  },
  {
   "cell_type": "code",
   "execution_count": 1,
   "metadata": {
    "collapsed": false
   },
   "outputs": [
    {
     "name": "stderr",
     "output_type": "stream",
     "text": [
      "/Users/Zhongyu/anaconda/lib/python2.7/site-packages/pandas/computation/__init__.py:19: UserWarning: The installed version of numexpr 2.4.4 is not supported in pandas and will be not be used\n",
      "\n",
      "  UserWarning)\n"
     ]
    }
   ],
   "source": [
    "import pandas as pd\n",
    "import numpy as np\n",
    "import matplotlib.pyplot as plt\n",
    "%matplotlib inline"
   ]
  },
  {
   "cell_type": "code",
   "execution_count": 13,
   "metadata": {
    "collapsed": true
   },
   "outputs": [],
   "source": [
    "data = pd.read_csv('data.csv')\n",
    "data = data.drop('Unnamed: 0', axis=1)"
   ]
  },
  {
   "cell_type": "code",
   "execution_count": 15,
   "metadata": {
    "collapsed": false
   },
   "outputs": [
    {
     "data": {
      "text/html": [
       "<div>\n",
       "<table border=\"1\" class=\"dataframe\">\n",
       "  <thead>\n",
       "    <tr style=\"text-align: right;\">\n",
       "      <th></th>\n",
       "      <th>deadline</th>\n",
       "      <th>destination</th>\n",
       "      <th>end_time</th>\n",
       "      <th>net_reward</th>\n",
       "      <th>parameters</th>\n",
       "      <th>penalty</th>\n",
       "      <th>start</th>\n",
       "      <th>success</th>\n",
       "    </tr>\n",
       "  </thead>\n",
       "  <tbody>\n",
       "    <tr>\n",
       "      <th>0</th>\n",
       "      <td>20</td>\n",
       "      <td>(5, 6)</td>\n",
       "      <td>0</td>\n",
       "      <td>0.0</td>\n",
       "      <td>(None, 0.5, 0.1)</td>\n",
       "      <td>0.0</td>\n",
       "      <td>(4, 3)</td>\n",
       "      <td>False</td>\n",
       "    </tr>\n",
       "    <tr>\n",
       "      <th>1</th>\n",
       "      <td>25</td>\n",
       "      <td>(7, 3)</td>\n",
       "      <td>0</td>\n",
       "      <td>-1.5</td>\n",
       "      <td>(None, 0.5, 0.1)</td>\n",
       "      <td>-7.5</td>\n",
       "      <td>(4, 5)</td>\n",
       "      <td>False</td>\n",
       "    </tr>\n",
       "    <tr>\n",
       "      <th>2</th>\n",
       "      <td>45</td>\n",
       "      <td>(8, 6)</td>\n",
       "      <td>0</td>\n",
       "      <td>8.0</td>\n",
       "      <td>(None, 0.5, 0.1)</td>\n",
       "      <td>-10.0</td>\n",
       "      <td>(3, 2)</td>\n",
       "      <td>False</td>\n",
       "    </tr>\n",
       "    <tr>\n",
       "      <th>3</th>\n",
       "      <td>20</td>\n",
       "      <td>(7, 2)</td>\n",
       "      <td>3</td>\n",
       "      <td>24.5</td>\n",
       "      <td>(None, 0.5, 0.1)</td>\n",
       "      <td>-15.5</td>\n",
       "      <td>(5, 4)</td>\n",
       "      <td>True</td>\n",
       "    </tr>\n",
       "    <tr>\n",
       "      <th>4</th>\n",
       "      <td>25</td>\n",
       "      <td>(6, 4)</td>\n",
       "      <td>13</td>\n",
       "      <td>10.0</td>\n",
       "      <td>(None, 0.5, 0.1)</td>\n",
       "      <td>-8.0</td>\n",
       "      <td>(3, 6)</td>\n",
       "      <td>True</td>\n",
       "    </tr>\n",
       "  </tbody>\n",
       "</table>\n",
       "</div>"
      ],
      "text/plain": [
       "   deadline destination  end_time  net_reward        parameters  penalty  \\\n",
       "0        20      (5, 6)         0         0.0  (None, 0.5, 0.1)      0.0   \n",
       "1        25      (7, 3)         0        -1.5  (None, 0.5, 0.1)     -7.5   \n",
       "2        45      (8, 6)         0         8.0  (None, 0.5, 0.1)    -10.0   \n",
       "3        20      (7, 2)         3        24.5  (None, 0.5, 0.1)    -15.5   \n",
       "4        25      (6, 4)        13        10.0  (None, 0.5, 0.1)     -8.0   \n",
       "\n",
       "    start success  \n",
       "0  (4, 3)   False  \n",
       "1  (4, 5)   False  \n",
       "2  (3, 2)   False  \n",
       "3  (5, 4)    True  \n",
       "4  (3, 6)    True  "
      ]
     },
     "execution_count": 15,
     "metadata": {},
     "output_type": "execute_result"
    }
   ],
   "source": [
    "data.head()"
   ]
  },
  {
   "cell_type": "markdown",
   "metadata": {},
   "source": [
    "***\n",
    "**Success Rate for Delivering the Customer to Destination before Time Out**"
   ]
  },
  {
   "cell_type": "code",
   "execution_count": 16,
   "metadata": {
    "collapsed": true
   },
   "outputs": [],
   "source": [
    "param = set(data['parameters'])"
   ]
  },
  {
   "cell_type": "code",
   "execution_count": 17,
   "metadata": {
    "collapsed": false
   },
   "outputs": [],
   "source": [
    "success_rate = []\n",
    "for p in param:\n",
    "    p_bool = data['parameters']==p\n",
    "    s = data['success'][p_bool]\n",
    "    rate = sum(s)*1./len(s)\n",
    "    success_rate.append(rate)"
   ]
  },
  {
   "cell_type": "code",
   "execution_count": 20,
   "metadata": {
    "collapsed": false
   },
   "outputs": [
    {
     "data": {
      "text/plain": [
       "[<matplotlib.lines.Line2D at 0x109bb91d0>]"
      ]
     },
     "execution_count": 20,
     "metadata": {},
     "output_type": "execute_result"
    },
    {
     "data": {
      "image/png": "[encoded data removed]",
      "text/plain": [
       "<matplotlib.figure.Figure at 0x109a32f50>"
      ]
     },
     "metadata": {},
     "output_type": "display_data"
    }
   ],
   "source": [
    "param_id = range(len(param))\n",
    "plt.plot(param_id, success_rate)"
   ]
  },
  {
   "cell_type": "code",
   "execution_count": null,
   "metadata": {
    "collapsed": true
   },
   "outputs": [],
   "source": []
  }
 ],
 "metadata": {
  "kernelspec": {
   "display_name": "Python 2",
   "language": "python",
   "name": "python2"
  },
  "language_info": {
   "codemirror_mode": {
    "name": "ipython",
    "version": 2
   },
   "file_extension": ".py",
   "mimetype": "text/x-python",
   "name": "python",
   "nbconvert_exporter": "python",
   "pygments_lexer": "ipython2",
   "version": "2.7.9"
  }
 },
 "nbformat": 4,
 "nbformat_minor": 0
}
