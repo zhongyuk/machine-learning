{
 "cells": [
  {
   "cell_type": "markdown",
   "metadata": {},
   "source": [
    "**This Notebook goes along with convnet_devp3.py. Compared to experiment2 notebook, it adds in L2 regularization on fully connected layers**\n",
    "\n",
    "Note: implementation of Batch Normalization?"
   ]
  },
  {
   "cell_type": "code",
   "execution_count": 3,
   "metadata": {
    "collapsed": false
   },
   "outputs": [],
   "source": [
    "import numpy as np\n",
    "import tensorflow as tf\n",
    "from six.moves import cPickle as pickle\n",
    "from sklearn.cross_validation import train_test_split\n",
    "import matplotlib.pyplot as plt\n",
    "%matplotlib inline\n",
    "from convnet_devp3 import *"
   ]
  },
  {
   "cell_type": "markdown",
   "metadata": {},
   "source": [
    "### Load Data"
   ]
  },
  {
   "cell_type": "code",
   "execution_count": 4,
   "metadata": {
    "collapsed": false
   },
   "outputs": [
    {
     "name": "stdout",
     "output_type": "stream",
     "text": [
      "Loading the training data...\n",
      "Loading the testing data...\n"
     ]
    }
   ],
   "source": [
    "train_dataset, train_labels, test_dataset, test_labels = load_data()"
   ]
  },
  {
   "cell_type": "markdown",
   "metadata": {},
   "source": [
    "### Split Training and Validation Data"
   ]
  },
  {
   "cell_type": "code",
   "execution_count": 5,
   "metadata": {
    "collapsed": true
   },
   "outputs": [],
   "source": [
    "train_dataset, valid_dataset, train_labels, valid_labels = \\\n",
    "    train_test_split(train_dataset, train_labels, test_size=10000,\\\n",
    "    random_state=897, stratify=train_labels)"
   ]
  },
  {
   "cell_type": "markdown",
   "metadata": {},
   "source": [
    "### Reshape Data - 32x32x3¶"
   ]
  },
  {
   "cell_type": "code",
   "execution_count": 6,
   "metadata": {
    "collapsed": false
   },
   "outputs": [
    {
     "name": "stdout",
     "output_type": "stream",
     "text": [
      "Dataset\t\tFeatureShape\t\tLabelShape\n",
      "Training set:\t(40000, 32, 32, 3) \t(40000,)\n",
      "Validation set:\t(10000, 32, 32, 3) \t(10000,)\n",
      "Testing set:\t(10000, 32, 32, 3) \t(10000,)\n"
     ]
    }
   ],
   "source": [
    "train_dataset = np.rollaxis(train_dataset.reshape((-1,3,32,32)), 1, 4)\n",
    "valid_dataset = np.rollaxis(valid_dataset.reshape((-1,3,32,32)), 1, 4)\n",
    "test_dataset = np.rollaxis(test_dataset.reshape((-1,3,32,32)), 1, 4)\n",
    "print 'Dataset\\t\\tFeatureShape\\t\\tLabelShape'\n",
    "print 'Training set:\\t', train_dataset.shape,'\\t', train_labels.shape\n",
    "print 'Validation set:\\t', valid_dataset.shape, '\\t', valid_labels.shape\n",
    "print 'Testing set:\\t', test_dataset.shape, '\\t', test_labels.shape"
   ]
  },
  {
   "cell_type": "markdown",
   "metadata": {},
   "source": [
    "### Data Augmentation - 50% of training upside down flip; 50% mirror flip"
   ]
  },
  {
   "cell_type": "code",
   "execution_count": 7,
   "metadata": {
    "collapsed": true
   },
   "outputs": [],
   "source": [
    "# Dataset Parameters\n",
    "image_size = 32\n",
    "num_labels = 10\n",
    "num_channels = 3\n",
    "train_dataset, train_labels = preprocess_data(train_dataset, train_labels, num_labels)\n",
    "valid_dataset, valid_labels = preprocess_data(valid_dataset, valid_labels, num_labels)\n",
    "test_dataset,  test_labels  = preprocess_data(test_dataset,  test_labels,  num_labels)"
   ]
  },
  {
   "cell_type": "markdown",
   "metadata": {},
   "source": [
    "### Generate a fixed small batch of data for corase tuning"
   ]
  },
  {
   "cell_type": "code",
   "execution_count": 8,
   "metadata": {
    "collapsed": true
   },
   "outputs": [],
   "source": [
    "train_batch_size = 32\n",
    "valid_batch_size = 32\n",
    "train_batch, train_label_batch = generate_batch(train_dataset, train_labels, train_batch_size)\n",
    "valid_batch, valid_label_batch = generate_batch(valid_dataset, valid_labels, valid_batch_size)"
   ]
  },
  {
   "cell_type": "markdown",
   "metadata": {},
   "source": [
    "### Setup Network Parameters"
   ]
  },
  {
   "cell_type": "code",
   "execution_count": 9,
   "metadata": {
    "collapsed": true
   },
   "outputs": [],
   "source": [
    "# Parameters for building blocks\n",
    "kernel_size3 = 3\n",
    "kernel_size5 = 5\n",
    "num_filter = 64\n",
    "fc_size1 = 512"
   ]
  },
  {
   "cell_type": "code",
   "execution_count": 10,
   "metadata": {
    "collapsed": true
   },
   "outputs": [],
   "source": [
    "# Setup shapes for each layer in the convnet\n",
    "convnet_shapes = [['conv1', [kernel_size5, kernel_size5, num_channels, num_filter]],\n",
    "                  ['conv2', [kernel_size3, kernel_size3, num_filter, num_filter]],\n",
    "                  ['conv3', [kernel_size5, kernel_size5, num_filter, num_filter]],\n",
    "                  ['fc1'  , [(image_size/2/2/2)**2*num_filter, fc_size1]],\n",
    "                  ['fc2'  , [fc_size1, num_labels]]]"
   ]
  },
  {
   "cell_type": "code",
   "execution_count": 13,
   "metadata": {
    "collapsed": true
   },
   "outputs": [],
   "source": [
    "model = convnet_stack\n",
    "epoch = 501"
   ]
  },
  {
   "cell_type": "code",
   "execution_count": 12,
   "metadata": {
    "collapsed": false
   },
   "outputs": [],
   "source": [
    "hyperparams={'keep_prob': 1., 'init_lr': 0.003, 'decay_rate': .7, 'beta':0.01,\n",
    "             'initializer':tf.truncated_normal_initializer(stddev=.015),\n",
    "             'decay_steps':1000, 'optimizer':tf.train.AdamOptimizer}"
   ]
  },
  {
   "cell_type": "code",
   "execution_count": 29,
   "metadata": {
    "collapsed": true
   },
   "outputs": [],
   "source": [
    "graph = tf.Graph()\n",
    "with graph.as_default():\n",
    "    tf_data = {'train_X': tf.constant(train_batch), 'train_y': tf.constant(train_label_batch),\n",
    "               'valid_X': tf.constant(valid_batch), 'valid_y': tf.constant(valid_label_batch),\n",
    "               'test_X' : None, 'test_y': None}"
   ]
  },
  {
   "cell_type": "code",
   "execution_count": 28,
   "metadata": {
    "collapsed": false
   },
   "outputs": [],
   "source": [
    "import convnet_devp3\n",
    "reload(convnet_devp3)\n",
    "from convnet_devp3 import train_convnet"
   ]
  },
  {
   "cell_type": "code",
   "execution_count": 30,
   "metadata": {
    "collapsed": false
   },
   "outputs": [
    {
     "name": "stdout",
     "output_type": "stream",
     "text": [
      "Prepare network parameters ................................\n",
      "Start training ................................\n",
      "Initialized\n",
      "Epoch: 0:\t Loss: 2.338976\t Time cost: 0\tTrain Acc: 9.38%\tValid Acc:  9%\tLearning rate: 0.000010/\n",
      "Epoch: 10:\t Loss: 2.229657\t Time cost: 0\tTrain Acc: 18.75%\tValid Acc:  9%\tLearning rate: 0.000010/\n",
      "Epoch: 20:\t Loss: 2.161078\t Time cost: 0\tTrain Acc: 18.75%\tValid Acc:  9%\tLearning rate: 0.000010/\n",
      "Epoch: 30:\t Loss: 2.123121\t Time cost: 0\tTrain Acc: 18.75%\tValid Acc:  9%\tLearning rate: 0.000010/\n",
      "Epoch: 40:\t Loss: 2.101532\t Time cost: 0\tTrain Acc: 28.12%\tValid Acc:  9%\tLearning rate: 0.000010/\n",
      "Epoch: 50:\t Loss: 2.071456\t Time cost: 0\tTrain Acc: 31.25%\tValid Acc:  9%\tLearning rate: 0.000010/\n",
      "Epoch: 60:\t Loss: 2.029851\t Time cost: 0\tTrain Acc: 31.25%\tValid Acc: 12%\tLearning rate: 0.000010/\n",
      "Epoch: 70:\t Loss: 1.971192\t Time cost: 0\tTrain Acc: 31.25%\tValid Acc: 12%\tLearning rate: 0.000010/\n",
      "Epoch: 80:\t Loss: 1.891571\t Time cost: 0\tTrain Acc: 40.62%\tValid Acc: 12%\tLearning rate: 0.000010/\n",
      "Epoch: 90:\t Loss: 1.791053\t Time cost: 0\tTrain Acc: 40.62%\tValid Acc: 16%\tLearning rate: 0.000010/\n",
      "Epoch: 100:\t Loss: 1.675522\t Time cost: 0\tTrain Acc: 46.88%\tValid Acc: 16%\tLearning rate: 0.000010/\n",
      "Epoch: 110:\t Loss: 1.549111\t Time cost: 0\tTrain Acc: 50.00%\tValid Acc: 12%\tLearning rate: 0.000010/\n",
      "Epoch: 120:\t Loss: 1.411570\t Time cost: 0\tTrain Acc: 59.38%\tValid Acc: 16%\tLearning rate: 0.000010/\n",
      "Epoch: 130:\t Loss: 1.264906\t Time cost: 0\tTrain Acc: 71.88%\tValid Acc: 16%\tLearning rate: 0.000010/\n",
      "Epoch: 140:\t Loss: 1.111877\t Time cost: 0\tTrain Acc: 75.00%\tValid Acc: 22%\tLearning rate: 0.000010/\n",
      "Epoch: 150:\t Loss: 0.953709\t Time cost: 0\tTrain Acc: 84.38%\tValid Acc: 22%\tLearning rate: 0.000010/\n",
      "Epoch: 160:\t Loss: 0.793909\t Time cost: 0\tTrain Acc: 84.38%\tValid Acc: 22%\tLearning rate: 0.000010/\n",
      "Epoch: 170:\t Loss: 0.637134\t Time cost: 0\tTrain Acc: 84.38%\tValid Acc: 22%\tLearning rate: 0.000010/\n",
      "Epoch: 180:\t Loss: 0.490413\t Time cost: 0\tTrain Acc: 96.88%\tValid Acc: 22%\tLearning rate: 0.000010/\n",
      "Epoch: 190:\t Loss: 0.361896\t Time cost: 0\tTrain Acc: 100.00%\tValid Acc: 22%\tLearning rate: 0.000010/\n",
      "Epoch: 200:\t Loss: 0.257092\t Time cost: 0\tTrain Acc: 100.00%\tValid Acc: 22%\tLearning rate: 0.000010/\n",
      "Epoch: 210:\t Loss: 0.178221\t Time cost: 0\tTrain Acc: 100.00%\tValid Acc: 28%\tLearning rate: 0.000010/\n",
      "Epoch: 220:\t Loss: 0.122856\t Time cost: 0\tTrain Acc: 100.00%\tValid Acc: 28%\tLearning rate: 0.000010/\n",
      "Epoch: 230:\t Loss: 0.086048\t Time cost: 0\tTrain Acc: 100.00%\tValid Acc: 28%\tLearning rate: 0.000010/\n",
      "Epoch: 240:\t Loss: 0.062211\t Time cost: 0\tTrain Acc: 100.00%\tValid Acc: 28%\tLearning rate: 0.000010/\n",
      "Epoch: 250:\t Loss: 0.046693\t Time cost: 0\tTrain Acc: 100.00%\tValid Acc: 28%\tLearning rate: 0.000010/\n",
      "Epoch: 260:\t Loss: 0.036339\t Time cost: 0\tTrain Acc: 100.00%\tValid Acc: 28%\tLearning rate: 0.000010/\n",
      "Epoch: 270:\t Loss: 0.029158\t Time cost: 0\tTrain Acc: 100.00%\tValid Acc: 28%\tLearning rate: 0.000010/\n",
      "Epoch: 280:\t Loss: 0.023990\t Time cost: 0\tTrain Acc: 100.00%\tValid Acc: 28%\tLearning rate: 0.000010/\n",
      "Epoch: 290:\t Loss: 0.020148\t Time cost: 0\tTrain Acc: 100.00%\tValid Acc: 28%\tLearning rate: 0.000010/\n",
      "Epoch: 300:\t Loss: 0.017213\t Time cost: 0\tTrain Acc: 100.00%\tValid Acc: 28%\tLearning rate: 0.000010/\n",
      "Epoch: 310:\t Loss: 0.014913\t Time cost: 0\tTrain Acc: 100.00%\tValid Acc: 28%\tLearning rate: 0.000010/\n",
      "Epoch: 320:\t Loss: 0.013068\t Time cost: 0\tTrain Acc: 100.00%\tValid Acc: 28%\tLearning rate: 0.000010/\n",
      "Epoch: 330:\t Loss: 0.011565\t Time cost: 0\tTrain Acc: 100.00%\tValid Acc: 28%\tLearning rate: 0.000010/\n",
      "Epoch: 340:\t Loss: 0.010321\t Time cost: 0\tTrain Acc: 100.00%\tValid Acc: 28%\tLearning rate: 0.000010/\n",
      "Epoch: 350:\t Loss: 0.009278\t Time cost: 0\tTrain Acc: 100.00%\tValid Acc: 28%\tLearning rate: 0.000010/\n",
      "Epoch: 360:\t Loss: 0.008392\t Time cost: 0\tTrain Acc: 100.00%\tValid Acc: 28%\tLearning rate: 0.000010/\n",
      "Epoch: 370:\t Loss: 0.007633\t Time cost: 0\tTrain Acc: 100.00%\tValid Acc: 28%\tLearning rate: 0.000010/\n",
      "Epoch: 380:\t Loss: 0.006976\t Time cost: 0\tTrain Acc: 100.00%\tValid Acc: 28%\tLearning rate: 0.000010/\n",
      "Epoch: 390:\t Loss: 0.006405\t Time cost: 0\tTrain Acc: 100.00%\tValid Acc: 28%\tLearning rate: 0.000010/\n",
      "Epoch: 400:\t Loss: 0.005903\t Time cost: 0\tTrain Acc: 100.00%\tValid Acc: 25%\tLearning rate: 0.000010/\n",
      "Epoch: 410:\t Loss: 0.005461\t Time cost: 0\tTrain Acc: 100.00%\tValid Acc: 25%\tLearning rate: 0.000010/\n",
      "Epoch: 420:\t Loss: 0.005068\t Time cost: 0\tTrain Acc: 100.00%\tValid Acc: 25%\tLearning rate: 0.000010/\n",
      "Epoch: 430:\t Loss: 0.004718\t Time cost: 0\tTrain Acc: 100.00%\tValid Acc: 25%\tLearning rate: 0.000010/\n",
      "Epoch: 440:\t Loss: 0.004404\t Time cost: 0\tTrain Acc: 100.00%\tValid Acc: 25%\tLearning rate: 0.000010/\n",
      "Epoch: 450:\t Loss: 0.004122\t Time cost: 0\tTrain Acc: 100.00%\tValid Acc: 25%\tLearning rate: 0.000010/\n",
      "Epoch: 460:\t Loss: 0.003866\t Time cost: 0\tTrain Acc: 100.00%\tValid Acc: 25%\tLearning rate: 0.000010/\n",
      "Epoch: 470:\t Loss: 0.003635\t Time cost: 0\tTrain Acc: 100.00%\tValid Acc: 25%\tLearning rate: 0.000010/\n",
      "Epoch: 480:\t Loss: 0.003424\t Time cost: 0\tTrain Acc: 100.00%\tValid Acc: 25%\tLearning rate: 0.000010/\n",
      "Epoch: 490:\t Loss: 0.003232\t Time cost: 0\tTrain Acc: 100.00%\tValid Acc: 25%\tLearning rate: 0.000010/\n",
      "Epoch: 500:\t Loss: 0.003056\t Time cost: 0\tTrain Acc: 100.00%\tValid Acc: 25%\tLearning rate: 0.000010/\n",
      "Finished training ................................\n"
     ]
    }
   ],
   "source": [
    "graph, training_data = train_convnet(graph, model, tf_data, convnet_shapes, hyperparams, epoch, False)"
   ]
  },
  {
   "cell_type": "markdown",
   "metadata": {},
   "source": [
    "### Implement functions for random search - Log Space Search"
   ]
  },
  {
   "cell_type": "code",
   "execution_count": 52,
   "metadata": {
    "collapsed": true
   },
   "outputs": [],
   "source": [
    "def plot_data(data):\n",
    "    epoch = range(data['train_losses'].shape[0])\n",
    "    plt.subplot(211)\n",
    "    plt.plot(epoch, data['train_losses'], label= 'training loss')\n",
    "    plt.plot(epoch, data['valid_losses'], label='validation loss')\n",
    "    plt.ylim([-.1,4])\n",
    "    plt.legend(loc='upper right')\n",
    "    plt.subplot(212)\n",
    "    plt.plot(epoch, data['train_acc'], label='training accuracy')\n",
    "    plt.plot(epoch, data['valid_acc'], label='validation accuracy')\n",
    "    plt.ylim([0.0, 1.1])\n",
    "    plt.legend(loc='upper right')\n",
    "    plt.show()"
   ]
  },
  {
   "cell_type": "code",
   "execution_count": 32,
   "metadata": {
    "collapsed": true
   },
   "outputs": [],
   "source": [
    "def random_search(num_experiments, train_batch_size, valid_batch_size, convnet_shapes, epoch):\n",
    "    experiment_data = {}\n",
    "    for i in range(num_experiments):\n",
    "        # Prepare small batch of data for experimental training\n",
    "        train_batch, train_label_batch = generate_batch(train_dataset, train_labels, train_batch_size)\n",
    "        valid_batch, valid_label_batch = generate_batch(valid_dataset, valid_labels, valid_batch_size)\n",
    "        # Sample random HyperParameters\n",
    "        hyperparams = generate_hyperparams()\n",
    "        # Prepare data for tensorflow\n",
    "        graph = tf.Graph()\n",
    "        with graph.as_default():\n",
    "            tf_data = {'train_X': tf.constant(train_batch), 'train_y': tf.constant(train_label_batch),\n",
    "                       'valid_X': tf.constant(valid_batch), 'valid_y': tf.constant(valid_label_batch),\n",
    "                       'test_X' : None, 'test_y': None}\n",
    "        hyperparams['initializer'] = tf.truncated_normal_initializer(stddev=hyperparams['init_std'])\n",
    "        # Train convnet\n",
    "        model = convnet_stack\n",
    "        _, training_data = train_convnet(graph, model, tf_data, convnet_shapes, hyperparams, epoch, False)\n",
    "        key = (hyperparams['keep_prob'], hyperparams['init_lr'], hyperparams['init_std'], hyperparams['beta'])\n",
    "        experiment_data[key] = training_data\n",
    "        print \"Finished experiment \", str(i)\n",
    "        print \"=\"*100\n",
    "    return experiment_data"
   ]
  },
  {
   "cell_type": "code",
   "execution_count": 83,
   "metadata": {
    "collapsed": true
   },
   "outputs": [],
   "source": [
    "def generate_hyperparams():\n",
    "    # Generate random hyperparameters Log Space\n",
    "    keep_prob = np.random.uniform(0.3, 0.7)\n",
    "    init_lr = np.random.uniform(0.00005, 0.0003)\n",
    "    init_std = np.random.uniform(0.01, 0.03)\n",
    "    beta = 10**np.random.uniform(-4, -3) # original setting (-6, -1)\n",
    "    hyperparams={'keep_prob': keep_prob, 'init_lr': init_lr, 'decay_rate': 1., 'decay_steps':1000,\n",
    "                 'init_std': init_std, 'beta':beta, 'optimizer':tf.train.AdamOptimizer}\n",
    "    return hyperparams"
   ]
  },
  {
   "cell_type": "markdown",
   "metadata": {},
   "source": [
    "### Random Search Through Hyperparameter Space"
   ]
  },
  {
   "cell_type": "code",
   "execution_count": 65,
   "metadata": {
    "collapsed": true
   },
   "outputs": [],
   "source": [
    "num_exp = 1\n",
    "train_batch_size = 64\n",
    "valid_batch_size = 32\n",
    "epoch = 301"
   ]
  },
  {
   "cell_type": "code",
   "execution_count": 90,
   "metadata": {
    "collapsed": false
   },
   "outputs": [
    {
     "name": "stdout",
     "output_type": "stream",
     "text": [
      "Prepare network parameters ................................\n",
      "Start training ................................\n",
      "Initialized\n",
      "Epoch: 0:\t Loss: 3.505228\t Time cost: 1\tTrain Acc: 9.38%\tValid Acc:  6%\tLearning rate: 0.000142/\n",
      "Epoch: 10:\t Loss: 2.116494\t Time cost: 1\tTrain Acc: 25.00%\tValid Acc: 38%\tLearning rate: 0.000142/\n",
      "Epoch: 20:\t Loss: 1.575215\t Time cost: 1\tTrain Acc: 54.69%\tValid Acc: 34%\tLearning rate: 0.000142/\n",
      "Epoch: 30:\t Loss: 0.939574\t Time cost: 0\tTrain Acc: 71.88%\tValid Acc: 38%\tLearning rate: 0.000142/\n",
      "Epoch: 40:\t Loss: 0.590072\t Time cost: 0\tTrain Acc: 87.50%\tValid Acc: 34%\tLearning rate: 0.000142/\n",
      "Epoch: 50:\t Loss: 0.330733\t Time cost: 1\tTrain Acc: 93.75%\tValid Acc: 44%\tLearning rate: 0.000142/\n",
      "Epoch: 60:\t Loss: 0.162173\t Time cost: 0\tTrain Acc: 98.44%\tValid Acc: 44%\tLearning rate: 0.000142/\n",
      "Epoch: 70:\t Loss: 0.082529\t Time cost: 0\tTrain Acc: 100.00%\tValid Acc: 44%\tLearning rate: 0.000142/\n",
      "Epoch: 80:\t Loss: 0.065473\t Time cost: 1\tTrain Acc: 100.00%\tValid Acc: 41%\tLearning rate: 0.000142/\n",
      "Epoch: 90:\t Loss: 0.051836\t Time cost: 0\tTrain Acc: 96.88%\tValid Acc: 41%\tLearning rate: 0.000142/\n",
      "Epoch: 100:\t Loss: 0.031305\t Time cost: 0\tTrain Acc: 100.00%\tValid Acc: 41%\tLearning rate: 0.000142/\n",
      "Epoch: 110:\t Loss: 0.019603\t Time cost: 1\tTrain Acc: 100.00%\tValid Acc: 47%\tLearning rate: 0.000142/\n",
      "Epoch: 120:\t Loss: 0.008171\t Time cost: 1\tTrain Acc: 100.00%\tValid Acc: 47%\tLearning rate: 0.000142/\n",
      "Epoch: 130:\t Loss: 0.006307\t Time cost: 1\tTrain Acc: 100.00%\tValid Acc: 41%\tLearning rate: 0.000142/\n",
      "Epoch: 140:\t Loss: 0.008564\t Time cost: 1\tTrain Acc: 100.00%\tValid Acc: 47%\tLearning rate: 0.000142/\n",
      "Epoch: 150:\t Loss: 0.010579\t Time cost: 0\tTrain Acc: 100.00%\tValid Acc: 44%\tLearning rate: 0.000142/\n",
      "Epoch: 160:\t Loss: 0.007613\t Time cost: 1\tTrain Acc: 100.00%\tValid Acc: 44%\tLearning rate: 0.000142/\n",
      "Epoch: 170:\t Loss: 0.007168\t Time cost: 0\tTrain Acc: 100.00%\tValid Acc: 44%\tLearning rate: 0.000142/\n",
      "Epoch: 180:\t Loss: 0.008473\t Time cost: 1\tTrain Acc: 100.00%\tValid Acc: 44%\tLearning rate: 0.000142/\n",
      "Epoch: 190:\t Loss: 0.008743\t Time cost: 1\tTrain Acc: 100.00%\tValid Acc: 44%\tLearning rate: 0.000142/\n",
      "Epoch: 200:\t Loss: 0.004425\t Time cost: 1\tTrain Acc: 100.00%\tValid Acc: 41%\tLearning rate: 0.000142/\n",
      "Epoch: 210:\t Loss: 0.001916\t Time cost: 1\tTrain Acc: 100.00%\tValid Acc: 44%\tLearning rate: 0.000142/\n",
      "Epoch: 220:\t Loss: 0.003585\t Time cost: 1\tTrain Acc: 100.00%\tValid Acc: 44%\tLearning rate: 0.000142/\n",
      "Epoch: 230:\t Loss: 0.005465\t Time cost: 0\tTrain Acc: 100.00%\tValid Acc: 44%\tLearning rate: 0.000142/\n",
      "Epoch: 240:\t Loss: 0.002146\t Time cost: 0\tTrain Acc: 100.00%\tValid Acc: 44%\tLearning rate: 0.000142/\n",
      "Epoch: 250:\t Loss: 0.003203\t Time cost: 1\tTrain Acc: 100.00%\tValid Acc: 41%\tLearning rate: 0.000142/\n",
      "Epoch: 260:\t Loss: 0.002594\t Time cost: 1\tTrain Acc: 100.00%\tValid Acc: 41%\tLearning rate: 0.000142/\n",
      "Epoch: 270:\t Loss: 0.003243\t Time cost: 1\tTrain Acc: 100.00%\tValid Acc: 44%\tLearning rate: 0.000142/\n",
      "Epoch: 280:\t Loss: 0.003610\t Time cost: 1\tTrain Acc: 100.00%\tValid Acc: 47%\tLearning rate: 0.000142/\n",
      "Epoch: 290:\t Loss: 0.001434\t Time cost: 0\tTrain Acc: 100.00%\tValid Acc: 41%\tLearning rate: 0.000142/\n",
      "Epoch: 300:\t Loss: 0.001871\t Time cost: 1\tTrain Acc: 100.00%\tValid Acc: 41%\tLearning rate: 0.000142/\n",
      "Finished training ................................\n",
      "Finished experiment  0\n",
      "====================================================================================================\n"
     ]
    }
   ],
   "source": [
    "experiment_data = random_search(num_exp, train_batch_size, valid_batch_size, convnet_shapes, epoch)"
   ]
  },
  {
   "cell_type": "code",
   "execution_count": 76,
   "metadata": {
    "collapsed": false
   },
   "outputs": [
    {
     "name": "stdout",
     "output_type": "stream",
     "text": [
      "keep_prob\t\tlearning rate\t\tinit_std\t\tbeta\t\t\tvalid accuracy\n",
      "0.309571806745 \t\t0.000126404254196 \t0.0219711635064 \t0.000152925896983 \t0.375\n"
     ]
    }
   ],
   "source": [
    "key = experiment_data.keys()[0]\n",
    "exp_data = experiment_data[key]\n",
    "print 'keep_prob\\t\\t', 'learning rate\\t\\t', 'init_std\\t\\t', 'beta\\t\\t\\t', 'valid accuracy'\n",
    "print key[0],'\\t\\t',key[1],'\\t',key[2],'\\t',key[3],'\\t', exp_data['valid_acc'][-1]"
   ]
  },
  {
   "cell_type": "code",
   "execution_count": 63,
   "metadata": {
    "collapsed": false
   },
   "outputs": [
    {
     "name": "stdout",
     "output_type": "stream",
     "text": [
      "keep_prob\t\tlearning rate\t\tinit_std\t\tbeta\t\t\tvalid accuracy\n",
      "0.469274904614 \t\t0.000105678596781 \t0.0271798853121 \t1.24681200922e-05 \t0.3125\n"
     ]
    }
   ],
   "source": [
    "key = experiment_data.keys()[0]\n",
    "exp_data = experiment_data[key]\n",
    "print 'keep_prob\\t\\t', 'learning rate\\t\\t', 'init_std\\t\\t', 'beta\\t\\t\\t', 'valid accuracy'\n",
    "print key[0],'\\t\\t',key[1],'\\t',key[2],'\\t',key[3],'\\t', exp_data['valid_acc'][-1]"
   ]
  },
  {
   "cell_type": "code",
   "execution_count": 92,
   "metadata": {
    "collapsed": false
   },
   "outputs": [
    {
     "name": "stdout",
     "output_type": "stream",
     "text": [
      "keep_prob\t\tlearning rate\t\tinit_std\t\tbeta\t\t\tvalid accuracy\n",
      "0.400169955605 \t\t0.000142452724142 \t0.025945623948 \t\t0.000551333584926 \t0.40625\n"
     ]
    }
   ],
   "source": [
    "key = experiment_data.keys()[0]\n",
    "exp_data = experiment_data[key]\n",
    "print 'keep_prob\\t\\t', 'learning rate\\t\\t', 'init_std\\t\\t', 'beta\\t\\t\\t', 'valid accuracy'\n",
    "print key[0],'\\t\\t',key[1],'\\t',key[2],'\\t\\t',key[3],'\\t', exp_data['valid_acc'][-1]"
   ]
  },
  {
   "cell_type": "code",
   "execution_count": 93,
   "metadata": {
    "collapsed": false
   },
   "outputs": [
    {
     "data": {
      "image/png": "[encoded data removed]",
      "text/plain": [
       "<matplotlib.figure.Figure at 0x114112c90>"
      ]
     },
     "metadata": {},
     "output_type": "display_data"
    }
   ],
   "source": [
    "plot_data(exp_data)"
   ]
  },
  {
   "cell_type": "markdown",
   "metadata": {},
   "source": [
    "***\n",
    "### Summary\n",
    "- Trail run parameters:\n",
    "    - AdamOptimizer\n",
    "    - Drop out keep prob: 0.4\n",
    "    - Weights initialization: truncated_normal with stddev=0.015\n",
    "    - Biases initialization : constant (1.0)\n",
    "    - CONVNET architecture:\n",
    "        * conv1: filter size 5x5, num of filters: 64, stride=1, padding=SAME + ReLu\n",
    "        * pool1: filter size 2x2, max pooling, stride=2, padding=SAME\n",
    "        * conv2: filter size 3x3, num of filters: 64, stride=1, padding=SAME + ReLu\n",
    "        * pool2: filter size 2x2, max pooling, stride=2, padding=SAME\n",
    "        * conv3: filter size 5x5, num of filters: 64, stride=1, padding=SAME + ReLu\n",
    "        * pool3: filter size 2x2, max pooling, stride=1, padding=SAME\n",
    "        * fc1  : 512 neurons\n",
    "        * fc2  : 10 neurons\n",
    "    - Time cost per epoch:  secs\n",
    "    - MiniBatch size: 512\n",
    "    - Total epoches ran: 1200\n",
    "    - learning rate: 0.0003, decay rate: 0.8, decay steps: 100, staircase: True\n",
    "    - L2 regularization factor beta: 0.0001~0.0005"
   ]
  },
  {
   "cell_type": "code",
   "execution_count": null,
   "metadata": {
    "collapsed": true
   },
   "outputs": [],
   "source": []
  }
 ],
 "metadata": {
  "kernelspec": {
   "display_name": "Python 2",
   "language": "python",
   "name": "python2"
  },
  "language_info": {
   "codemirror_mode": {
    "name": "ipython",
    "version": 2
   },
   "file_extension": ".py",
   "mimetype": "text/x-python",
   "name": "python",
   "nbconvert_exporter": "python",
   "pygments_lexer": "ipython2",
   "version": "2.7.12"
  }
 },
 "nbformat": 4,
 "nbformat_minor": 1
}
