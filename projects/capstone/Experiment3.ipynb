{
 "cells": [
  {
   "cell_type": "markdown",
   "metadata": {},
   "source": [
    "**This Notebook goes along with convnet_devp3.py. Compared to experiment2 notebook, it adds in L2 regularization on fully connected layers. It also adds a Batch Normlization layer after each CONV/FC layer**"
   ]
  },
  {
   "cell_type": "code",
   "execution_count": 1,
   "metadata": {
    "collapsed": false
   },
   "outputs": [
    {
     "name": "stderr",
     "output_type": "stream",
     "text": [
      "/Users/Zhongyu/anaconda/envs/tensorflow/lib/python2.7/site-packages/sklearn/cross_validation.py:44: DeprecationWarning: This module was deprecated in version 0.18 in favor of the model_selection module into which all the refactored classes and functions are moved. Also note that the interface of the new CV iterators are different from that of this module. This module will be removed in 0.20.\n",
      "  \"This module will be removed in 0.20.\", DeprecationWarning)\n",
      "/Users/Zhongyu/.local/lib/python2.7/site-packages/matplotlib/font_manager.py:273: UserWarning: Matplotlib is building the font cache using fc-list. This may take a moment.\n",
      "  warnings.warn('Matplotlib is building the font cache using fc-list. This may take a moment.')\n"
     ]
    }
   ],
   "source": [
    "import numpy as np\n",
    "import tensorflow as tf\n",
    "from six.moves import cPickle as pickle\n",
    "from sklearn.cross_validation import train_test_split\n",
    "import matplotlib.pyplot as plt\n",
    "%matplotlib inline\n",
    "from convnet_devp3 import *"
   ]
  },
  {
   "cell_type": "markdown",
   "metadata": {},
   "source": [
    "### Load Data"
   ]
  },
  {
   "cell_type": "code",
   "execution_count": 2,
   "metadata": {
    "collapsed": false
   },
   "outputs": [
    {
     "name": "stdout",
     "output_type": "stream",
     "text": [
      "Loading the training data...\n",
      "Loading the testing data...\n"
     ]
    }
   ],
   "source": [
    "train_dataset, train_labels, test_dataset, test_labels = load_data()"
   ]
  },
  {
   "cell_type": "markdown",
   "metadata": {},
   "source": [
    "### Split Training and Validation Data"
   ]
  },
  {
   "cell_type": "code",
   "execution_count": 3,
   "metadata": {
    "collapsed": true
   },
   "outputs": [],
   "source": [
    "train_dataset, valid_dataset, train_labels, valid_labels = \\\n",
    "    train_test_split(train_dataset, train_labels, test_size=10000,\\\n",
    "    random_state=897, stratify=train_labels)"
   ]
  },
  {
   "cell_type": "markdown",
   "metadata": {},
   "source": [
    "### Reshape Data - 32x32x3"
   ]
  },
  {
   "cell_type": "code",
   "execution_count": 4,
   "metadata": {
    "collapsed": false
   },
   "outputs": [
    {
     "name": "stdout",
     "output_type": "stream",
     "text": [
      "Dataset\t\tFeatureShape\t\tLabelShape\n",
      "Training set:\t(40000, 32, 32, 3) \t(40000,)\n",
      "Validation set:\t(10000, 32, 32, 3) \t(10000,)\n",
      "Testing set:\t(10000, 32, 32, 3) \t(10000,)\n"
     ]
    }
   ],
   "source": [
    "train_dataset = np.rollaxis(train_dataset.reshape((-1,3,32,32)), 1, 4)\n",
    "valid_dataset = np.rollaxis(valid_dataset.reshape((-1,3,32,32)), 1, 4)\n",
    "test_dataset = np.rollaxis(test_dataset.reshape((-1,3,32,32)), 1, 4)\n",
    "print 'Dataset\\t\\tFeatureShape\\t\\tLabelShape'\n",
    "print 'Training set:\\t', train_dataset.shape,'\\t', train_labels.shape\n",
    "print 'Validation set:\\t', valid_dataset.shape, '\\t', valid_labels.shape\n",
    "print 'Testing set:\\t', test_dataset.shape, '\\t', test_labels.shape"
   ]
  },
  {
   "cell_type": "markdown",
   "metadata": {},
   "source": [
    "### Data Augmentation - 50% of training upside down flip; 50% mirror flip"
   ]
  },
  {
   "cell_type": "code",
   "execution_count": 5,
   "metadata": {
    "collapsed": true
   },
   "outputs": [],
   "source": [
    "# Dataset Parameters\n",
    "image_size = 32\n",
    "num_labels = 10\n",
    "num_channels = 3\n",
    "train_dataset, train_labels = preprocess_data(train_dataset, train_labels, num_labels)\n",
    "valid_dataset, valid_labels = preprocess_data(valid_dataset, valid_labels, num_labels)\n",
    "test_dataset,  test_labels  = preprocess_data(test_dataset,  test_labels,  num_labels)"
   ]
  },
  {
   "cell_type": "markdown",
   "metadata": {},
   "source": [
    "### Generate a fixed small batch of data for corase tuning"
   ]
  },
  {
   "cell_type": "code",
   "execution_count": 6,
   "metadata": {
    "collapsed": true
   },
   "outputs": [],
   "source": [
    "train_batch_size = 32\n",
    "valid_batch_size = 32\n",
    "train_batch, train_label_batch = generate_batch(train_dataset, train_labels, train_batch_size)\n",
    "valid_batch, valid_label_batch = generate_batch(valid_dataset, valid_labels, valid_batch_size)"
   ]
  },
  {
   "cell_type": "markdown",
   "metadata": {},
   "source": [
    "### Setup Network Parameters"
   ]
  },
  {
   "cell_type": "code",
   "execution_count": 7,
   "metadata": {
    "collapsed": true
   },
   "outputs": [],
   "source": [
    "# Parameters for building blocks\n",
    "kernel_size3 = 3\n",
    "kernel_size5 = 5\n",
    "num_filter = 64\n",
    "fc_size1 = 512"
   ]
  },
  {
   "cell_type": "code",
   "execution_count": 8,
   "metadata": {
    "collapsed": true
   },
   "outputs": [],
   "source": [
    "# Setup shapes for each layer in the convnet\n",
    "convnet_shapes = [['conv1', [kernel_size5, kernel_size5, num_channels, num_filter]],\n",
    "                  ['conv2', [kernel_size3, kernel_size3, num_filter, num_filter]],\n",
    "                  ['conv3', [kernel_size5, kernel_size5, num_filter, num_filter]],\n",
    "                  ['fc1'  , [(image_size/2/2/2)**2*num_filter, fc_size1]],\n",
    "                  ['fc2'  , [fc_size1, num_labels]]]"
   ]
  },
  {
   "cell_type": "code",
   "execution_count": 9,
   "metadata": {
    "collapsed": true
   },
   "outputs": [],
   "source": [
    "model = convnet_stack\n",
    "epoch = 21"
   ]
  },
  {
   "cell_type": "code",
   "execution_count": 22,
   "metadata": {
    "collapsed": true
   },
   "outputs": [],
   "source": [
    "import convnet_devp3\n",
    "reload(convnet_devp3)\n",
    "from convnet_devp3 import batch_norm_layer\n",
    "from convnet_devp3 import initialize_variables"
   ]
  },
  {
   "cell_type": "code",
   "execution_count": 196,
   "metadata": {
    "collapsed": false
   },
   "outputs": [],
   "source": [
    "hyperparams={'keep_prob': .42, 'init_lr': 0.004, 'decay_rate': .7, 'beta':.017,\n",
    "             'initializer':tf.truncated_normal_initializer(stddev=0.33),#tf.contrib.layers.variance_scaling_initializer(4.),\n",
    "             'batch_norm':True,\n",
    "             'decay_steps':500, 'optimizer':tf.train.AdamOptimizer}"
   ]
  },
  {
   "cell_type": "code",
   "execution_count": 197,
   "metadata": {
    "collapsed": true
   },
   "outputs": [],
   "source": [
    "graph = tf.Graph()\n",
    "with graph.as_default():\n",
    "    tf_data = {'train_X': tf.constant(train_batch), 'train_y': tf.constant(train_label_batch),\n",
    "               'valid_X': tf.constant(valid_batch), 'valid_y': tf.constant(valid_label_batch),\n",
    "               'test_X' : None, 'test_y': None}"
   ]
  },
  {
   "cell_type": "code",
   "execution_count": 198,
   "metadata": {
    "collapsed": false
   },
   "outputs": [
    {
     "name": "stdout",
     "output_type": "stream",
     "text": [
      "Prepare network parameters ................................\n",
      "Start training ................................\n",
      "Initialized\n",
      "Epoch: 0:\t Loss: 2.499240\t Time cost: 1\tTrain Acc: 9.38%\tValid Acc: 16%\tLearning rate: 0.004000\n",
      "Epoch: 1:\t Loss: 1.930284\t Time cost: 1\tTrain Acc: 34.38%\tValid Acc: 12%\tLearning rate: 0.004000\n",
      "Epoch: 2:\t Loss: 1.522093\t Time cost: 1\tTrain Acc: 56.25%\tValid Acc: 12%\tLearning rate: 0.004000\n",
      "Epoch: 3:\t Loss: 1.486176\t Time cost: 1\tTrain Acc: 65.62%\tValid Acc:  9%\tLearning rate: 0.004000\n",
      "Epoch: 4:\t Loss: 1.300565\t Time cost: 1\tTrain Acc: 75.00%\tValid Acc:  9%\tLearning rate: 0.004000\n",
      "Epoch: 5:\t Loss: 1.177932\t Time cost: 1\tTrain Acc: 75.00%\tValid Acc:  9%\tLearning rate: 0.004000\n",
      "Epoch: 6:\t Loss: 1.093027\t Time cost: 1\tTrain Acc: 81.25%\tValid Acc:  9%\tLearning rate: 0.004000\n",
      "Epoch: 7:\t Loss: 1.018849\t Time cost: 1\tTrain Acc: 84.38%\tValid Acc:  9%\tLearning rate: 0.004000\n",
      "Epoch: 8:\t Loss: 0.971666\t Time cost: 1\tTrain Acc: 87.50%\tValid Acc:  9%\tLearning rate: 0.004000\n",
      "Epoch: 9:\t Loss: 0.895938\t Time cost: 1\tTrain Acc: 93.75%\tValid Acc:  9%\tLearning rate: 0.004000\n",
      "Epoch: 10:\t Loss: 0.832710\t Time cost: 1\tTrain Acc: 93.75%\tValid Acc:  9%\tLearning rate: 0.004000\n",
      "Epoch: 11:\t Loss: 0.799540\t Time cost: 1\tTrain Acc: 96.88%\tValid Acc:  9%\tLearning rate: 0.004000\n",
      "Epoch: 12:\t Loss: 0.768781\t Time cost: 1\tTrain Acc: 100.00%\tValid Acc:  9%\tLearning rate: 0.004000\n",
      "Epoch: 13:\t Loss: 0.786190\t Time cost: 1\tTrain Acc: 96.88%\tValid Acc:  9%\tLearning rate: 0.004000\n",
      "Epoch: 14:\t Loss: 0.754959\t Time cost: 1\tTrain Acc: 96.88%\tValid Acc:  9%\tLearning rate: 0.004000\n",
      "Epoch: 15:\t Loss: 0.683717\t Time cost: 1\tTrain Acc: 100.00%\tValid Acc:  9%\tLearning rate: 0.004000\n",
      "Epoch: 16:\t Loss: 0.662462\t Time cost: 1\tTrain Acc: 100.00%\tValid Acc:  9%\tLearning rate: 0.004000\n",
      "Epoch: 17:\t Loss: 0.635678\t Time cost: 1\tTrain Acc: 100.00%\tValid Acc:  9%\tLearning rate: 0.004000\n",
      "Epoch: 18:\t Loss: 0.620155\t Time cost: 1\tTrain Acc: 100.00%\tValid Acc:  9%\tLearning rate: 0.004000\n",
      "Epoch: 19:\t Loss: 0.605682\t Time cost: 1\tTrain Acc: 96.88%\tValid Acc:  9%\tLearning rate: 0.004000\n",
      "Epoch: 20:\t Loss: 0.603721\t Time cost: 1\tTrain Acc: 100.00%\tValid Acc:  9%\tLearning rate: 0.004000\n",
      "Finished training ................................\n"
     ]
    }
   ],
   "source": [
    "graph, training_data = train_convnet(graph, model, tf_data, convnet_shapes, hyperparams, epoch, False)"
   ]
  },
  {
   "cell_type": "markdown",
   "metadata": {},
   "source": [
    "### Implement functions for random search - Log Space Search"
   ]
  },
  {
   "cell_type": "code",
   "execution_count": 57,
   "metadata": {
    "collapsed": true
   },
   "outputs": [],
   "source": [
    "def plot_data(data):\n",
    "    epoch = range(data['train_losses'].shape[0])\n",
    "    plt.subplot(211)\n",
    "    plt.plot(epoch, data['train_losses'], label= 'training loss')\n",
    "    plt.plot(epoch, data['valid_losses'], label='validation loss')\n",
    "    plt.ylim([-.1,4])\n",
    "    plt.legend(loc='upper right')\n",
    "    plt.subplot(212)\n",
    "    plt.plot(epoch, data['train_acc'], label='training accuracy')\n",
    "    plt.plot(epoch, data['valid_acc'], label='validation accuracy')\n",
    "    plt.ylim([0.0, 1.1])\n",
    "    plt.legend(loc='upper right')\n",
    "    plt.show()"
   ]
  },
  {
   "cell_type": "code",
   "execution_count": 55,
   "metadata": {
    "collapsed": true
   },
   "outputs": [],
   "source": [
    "def random_search(num_experiments, train_batch_size, valid_batch_size, convnet_shapes, epoch):\n",
    "    experiment_data = {}\n",
    "    for i in range(num_experiments):\n",
    "        # Prepare small batch of data for experimental training\n",
    "        train_batch, train_label_batch = generate_batch(train_dataset, train_labels, train_batch_size)\n",
    "        valid_batch, valid_label_batch = generate_batch(valid_dataset, valid_labels, valid_batch_size)\n",
    "        # Sample random HyperParameters\n",
    "        hyperparams = generate_hyperparams()\n",
    "        # Prepare data for tensorflow\n",
    "        graph = tf.Graph()\n",
    "        with graph.as_default():\n",
    "            tf_data = {'train_X': tf.constant(train_batch), 'train_y': tf.constant(train_label_batch),\n",
    "                       'valid_X': tf.constant(valid_batch), 'valid_y': tf.constant(valid_label_batch),\n",
    "                       'test_X' : None, 'test_y': None}\n",
    "        hyperparams['initializer'] = tf.truncated_normal_initializer(stddev=hyperparams['init_std'])\n",
    "        # Train convnet\n",
    "        model = convnet_stack\n",
    "        _, training_data = train_convnet(graph, model, tf_data, convnet_shapes, hyperparams, epoch, False)\n",
    "        key = (hyperparams['keep_prob'], hyperparams['init_lr'], hyperparams['init_std'], hyperparams['beta'])\n",
    "        experiment_data[key] = training_data\n",
    "        print \"Finished experiment \", str(i)\n",
    "        print \"=\"*100\n",
    "    return experiment_data"
   ]
  },
  {
   "cell_type": "code",
   "execution_count": 151,
   "metadata": {
    "collapsed": true
   },
   "outputs": [],
   "source": [
    "def generate_hyperparams():\n",
    "    # Generate random hyperparameters Log Space\n",
    "    keep_prob = np.random.uniform(0.3, 0.7)\n",
    "    init_lr = 10**np.random.uniform(-3,-2)#np.random.uniform(0.0001, 0.0009)\n",
    "    init_std = np.random.uniform(0.01, 0.6) #10**np.random.uniform(-3,-1)\n",
    "    beta = 10**np.random.uniform(-3, -1) # original setting (-6, -1)\n",
    "    hyperparams={'keep_prob': keep_prob, 'init_lr': init_lr, 'decay_rate': 1., 'decay_steps':1000,\n",
    "                 'init_std': init_std, 'beta':beta, 'optimizer':tf.train.AdamOptimizer, 'batch_norm':True}\n",
    "    return hyperparams"
   ]
  },
  {
   "cell_type": "markdown",
   "metadata": {},
   "source": [
    "### Random Search Through Hyperparameter Space"
   ]
  },
  {
   "cell_type": "code",
   "execution_count": 154,
   "metadata": {
    "collapsed": true
   },
   "outputs": [],
   "source": [
    "num_exp = 1\n",
    "train_batch_size = 128\n",
    "valid_batch_size = 32\n",
    "epoch = 21"
   ]
  },
  {
   "cell_type": "markdown",
   "metadata": {},
   "source": [
    "***\n",
    "**Good Experiment Record 1**"
   ]
  },
  {
   "cell_type": "code",
   "execution_count": 155,
   "metadata": {
    "collapsed": false
   },
   "outputs": [
    {
     "name": "stdout",
     "output_type": "stream",
     "text": [
      "Prepare network parameters ................................\n",
      "Start training ................................\n",
      "Initialized\n",
      "Epoch: 0:\t Loss: 2.497043\t Time cost: 2\tTrain Acc: 11.72%\tValid Acc:  9%\tLearning rate: 0.006907\n",
      "Epoch: 1:\t Loss: 2.200414\t Time cost: 2\tTrain Acc: 22.66%\tValid Acc:  6%\tLearning rate: 0.006907\n",
      "Epoch: 2:\t Loss: 1.866440\t Time cost: 2\tTrain Acc: 41.41%\tValid Acc:  6%\tLearning rate: 0.006907\n",
      "Epoch: 3:\t Loss: 1.648761\t Time cost: 2\tTrain Acc: 55.47%\tValid Acc: 12%\tLearning rate: 0.006907\n",
      "Epoch: 4:\t Loss: 1.492070\t Time cost: 2\tTrain Acc: 64.84%\tValid Acc: 16%\tLearning rate: 0.006907\n",
      "Epoch: 5:\t Loss: 1.411582\t Time cost: 2\tTrain Acc: 63.28%\tValid Acc: 16%\tLearning rate: 0.006907\n",
      "Epoch: 6:\t Loss: 1.254028\t Time cost: 2\tTrain Acc: 76.56%\tValid Acc: 12%\tLearning rate: 0.006907\n",
      "Epoch: 7:\t Loss: 1.164590\t Time cost: 2\tTrain Acc: 80.47%\tValid Acc: 12%\tLearning rate: 0.006907\n",
      "Epoch: 8:\t Loss: 1.043790\t Time cost: 2\tTrain Acc: 85.94%\tValid Acc: 12%\tLearning rate: 0.006907\n",
      "Epoch: 9:\t Loss: 1.035576\t Time cost: 2\tTrain Acc: 87.50%\tValid Acc: 12%\tLearning rate: 0.006907\n",
      "Epoch: 10:\t Loss: 0.954750\t Time cost: 2\tTrain Acc: 87.50%\tValid Acc: 12%\tLearning rate: 0.006907\n",
      "Epoch: 11:\t Loss: 0.912875\t Time cost: 2\tTrain Acc: 92.97%\tValid Acc: 12%\tLearning rate: 0.006907\n",
      "Epoch: 12:\t Loss: 0.868221\t Time cost: 2\tTrain Acc: 90.62%\tValid Acc: 12%\tLearning rate: 0.006907\n",
      "Epoch: 13:\t Loss: 0.788710\t Time cost: 2\tTrain Acc: 93.75%\tValid Acc: 12%\tLearning rate: 0.006907\n",
      "Epoch: 14:\t Loss: 0.790983\t Time cost: 2\tTrain Acc: 92.19%\tValid Acc: 12%\tLearning rate: 0.006907\n",
      "Epoch: 15:\t Loss: 0.714354\t Time cost: 2\tTrain Acc: 96.09%\tValid Acc: 12%\tLearning rate: 0.006907\n",
      "Epoch: 16:\t Loss: 0.672851\t Time cost: 2\tTrain Acc: 97.66%\tValid Acc: 12%\tLearning rate: 0.006907\n",
      "Epoch: 17:\t Loss: 0.648930\t Time cost: 2\tTrain Acc: 96.09%\tValid Acc: 16%\tLearning rate: 0.006907\n",
      "Epoch: 18:\t Loss: 0.613706\t Time cost: 2\tTrain Acc: 98.44%\tValid Acc: 16%\tLearning rate: 0.006907\n",
      "Epoch: 19:\t Loss: 0.608997\t Time cost: 2\tTrain Acc: 98.44%\tValid Acc: 16%\tLearning rate: 0.006907\n",
      "Epoch: 20:\t Loss: 0.573810\t Time cost: 2\tTrain Acc: 99.22%\tValid Acc: 16%\tLearning rate: 0.006907\n",
      "Finished training ................................\n",
      "Finished experiment  0\n",
      "====================================================================================================\n"
     ]
    }
   ],
   "source": [
    "experiment_data = random_search(num_exp, train_batch_size, valid_batch_size, convnet_shapes, epoch)"
   ]
  },
  {
   "cell_type": "code",
   "execution_count": 156,
   "metadata": {
    "collapsed": false
   },
   "outputs": [
    {
     "name": "stdout",
     "output_type": "stream",
     "text": [
      "keep_prob\t\tlearning rate\t\tinit_std\t\tbeta\t\t\tvalid accuracy\n",
      "0.44213032087 \t\t0.00690662918828 \t0.521996460027 \t\t0.0282275615654 \t0.15625\n"
     ]
    }
   ],
   "source": [
    "key = experiment_data.keys()[0]\n",
    "exp_data = experiment_data[key]\n",
    "print 'keep_prob\\t\\t', 'learning rate\\t\\t', 'init_std\\t\\t', 'beta\\t\\t\\t', 'valid accuracy'\n",
    "print key[0],'\\t\\t',key[1],'\\t',key[2],'\\t\\t',key[3],'\\t', exp_data['valid_acc'][-1]"
   ]
  },
  {
   "cell_type": "code",
   "execution_count": 157,
   "metadata": {
    "collapsed": false
   },
   "outputs": [
    {
     "data": {
      "image/png": "[encoded data removed]",
      "text/plain": [
       "<matplotlib.figure.Figure at 0x1156b2f10>"
      ]
     },
     "metadata": {},
     "output_type": "display_data"
    }
   ],
   "source": [
    "plot_data(exp_data)"
   ]
  },
  {
   "cell_type": "markdown",
   "metadata": {},
   "source": [
    "***\n",
    "**Good Experiment Record 2**"
   ]
  },
  {
   "cell_type": "code",
   "execution_count": 166,
   "metadata": {
    "collapsed": false
   },
   "outputs": [
    {
     "name": "stdout",
     "output_type": "stream",
     "text": [
      "Prepare network parameters ................................\n",
      "Start training ................................\n",
      "Initialized\n",
      "Epoch: 0:\t Loss: 2.468071\t Time cost: 2\tTrain Acc: 9.38%\tValid Acc: 12%\tLearning rate: 0.001115\n",
      "Epoch: 1:\t Loss: 2.391333\t Time cost: 2\tTrain Acc: 9.38%\tValid Acc:  9%\tLearning rate: 0.001115\n",
      "Epoch: 2:\t Loss: 2.354904\t Time cost: 2\tTrain Acc: 14.06%\tValid Acc:  9%\tLearning rate: 0.001115\n",
      "Epoch: 3:\t Loss: 2.237288\t Time cost: 2\tTrain Acc: 20.31%\tValid Acc: 12%\tLearning rate: 0.001115\n",
      "Epoch: 4:\t Loss: 2.108455\t Time cost: 2\tTrain Acc: 25.78%\tValid Acc: 12%\tLearning rate: 0.001115\n",
      "Epoch: 5:\t Loss: 2.035473\t Time cost: 2\tTrain Acc: 28.12%\tValid Acc: 12%\tLearning rate: 0.001115\n",
      "Epoch: 6:\t Loss: 1.855656\t Time cost: 2\tTrain Acc: 43.75%\tValid Acc: 12%\tLearning rate: 0.001115\n",
      "Epoch: 7:\t Loss: 1.877129\t Time cost: 2\tTrain Acc: 36.72%\tValid Acc: 12%\tLearning rate: 0.001115\n",
      "Epoch: 8:\t Loss: 1.770058\t Time cost: 2\tTrain Acc: 44.53%\tValid Acc: 12%\tLearning rate: 0.001115\n",
      "Epoch: 9:\t Loss: 1.716925\t Time cost: 2\tTrain Acc: 49.22%\tValid Acc: 16%\tLearning rate: 0.001115\n",
      "Epoch: 10:\t Loss: 1.622479\t Time cost: 2\tTrain Acc: 53.12%\tValid Acc: 19%\tLearning rate: 0.001115\n",
      "Epoch: 11:\t Loss: 1.498369\t Time cost: 2\tTrain Acc: 60.94%\tValid Acc: 19%\tLearning rate: 0.001115\n",
      "Epoch: 12:\t Loss: 1.474837\t Time cost: 2\tTrain Acc: 62.50%\tValid Acc: 19%\tLearning rate: 0.001115\n",
      "Epoch: 13:\t Loss: 1.518781\t Time cost: 2\tTrain Acc: 57.03%\tValid Acc: 19%\tLearning rate: 0.001115\n",
      "Epoch: 14:\t Loss: 1.447261\t Time cost: 2\tTrain Acc: 64.84%\tValid Acc: 28%\tLearning rate: 0.001115\n",
      "Epoch: 15:\t Loss: 1.412421\t Time cost: 2\tTrain Acc: 67.97%\tValid Acc: 28%\tLearning rate: 0.001115\n",
      "Epoch: 16:\t Loss: 1.340345\t Time cost: 2\tTrain Acc: 72.66%\tValid Acc: 28%\tLearning rate: 0.001115\n",
      "Epoch: 17:\t Loss: 1.310968\t Time cost: 2\tTrain Acc: 71.09%\tValid Acc: 28%\tLearning rate: 0.001115\n",
      "Epoch: 18:\t Loss: 1.314742\t Time cost: 2\tTrain Acc: 70.31%\tValid Acc: 28%\tLearning rate: 0.001115\n",
      "Epoch: 19:\t Loss: 1.225509\t Time cost: 2\tTrain Acc: 78.91%\tValid Acc: 28%\tLearning rate: 0.001115\n",
      "Epoch: 20:\t Loss: 1.237007\t Time cost: 2\tTrain Acc: 78.91%\tValid Acc: 31%\tLearning rate: 0.001115\n",
      "Finished training ................................\n",
      "Finished experiment  0\n",
      "====================================================================================================\n"
     ]
    }
   ],
   "source": [
    "experiment_data = random_search(num_exp, train_batch_size, valid_batch_size, convnet_shapes, epoch)"
   ]
  },
  {
   "cell_type": "code",
   "execution_count": 168,
   "metadata": {
    "collapsed": false
   },
   "outputs": [
    {
     "name": "stdout",
     "output_type": "stream",
     "text": [
      "keep_prob\t\tlearning rate\t\tinit_std\t\tbeta\t\t\tvalid accuracy\n",
      "0.422316283373 \t\t0.00111459287908 \t0.375999623514 \t\t0.00163063092047 \t0.3125\n"
     ]
    }
   ],
   "source": [
    "key = experiment_data.keys()[0]\n",
    "exp_data = experiment_data[key]\n",
    "print 'keep_prob\\t\\t', 'learning rate\\t\\t', 'init_std\\t\\t', 'beta\\t\\t\\t', 'valid accuracy'\n",
    "print key[0],'\\t\\t',key[1],'\\t',key[2],'\\t\\t',key[3],'\\t', exp_data['valid_acc'][-1]"
   ]
  },
  {
   "cell_type": "code",
   "execution_count": 169,
   "metadata": {
    "collapsed": false
   },
   "outputs": [
    {
     "data": {
      "image/png": "[encoded data removed]",
      "text/plain": [
       "<matplotlib.figure.Figure at 0x115a23150>"
      ]
     },
     "metadata": {},
     "output_type": "display_data"
    }
   ],
   "source": [
    "plot_data(exp_data)"
   ]
  },
  {
   "cell_type": "markdown",
   "metadata": {},
   "source": [
    "***\n",
    "**Good Experiment Record 3**"
   ]
  },
  {
   "cell_type": "code",
   "execution_count": 199,
   "metadata": {
    "collapsed": false
   },
   "outputs": [
    {
     "name": "stdout",
     "output_type": "stream",
     "text": [
      "Prepare network parameters ................................\n",
      "Start training ................................\n",
      "Initialized\n",
      "Epoch: 0:\t Loss: 2.488609\t Time cost: 2\tTrain Acc: 4.69%\tValid Acc: 12%\tLearning rate: 0.002012\n",
      "Epoch: 1:\t Loss: 2.173756\t Time cost: 2\tTrain Acc: 21.09%\tValid Acc:  9%\tLearning rate: 0.002012\n",
      "Epoch: 2:\t Loss: 2.012465\t Time cost: 2\tTrain Acc: 32.03%\tValid Acc: 19%\tLearning rate: 0.002012\n",
      "Epoch: 3:\t Loss: 1.781718\t Time cost: 2\tTrain Acc: 41.41%\tValid Acc: 19%\tLearning rate: 0.002012\n",
      "Epoch: 4:\t Loss: 1.738168\t Time cost: 2\tTrain Acc: 50.00%\tValid Acc: 16%\tLearning rate: 0.002012\n",
      "Epoch: 5:\t Loss: 1.547821\t Time cost: 2\tTrain Acc: 57.03%\tValid Acc: 16%\tLearning rate: 0.002012\n",
      "Epoch: 6:\t Loss: 1.426891\t Time cost: 2\tTrain Acc: 63.28%\tValid Acc: 16%\tLearning rate: 0.002012\n",
      "Epoch: 7:\t Loss: 1.341481\t Time cost: 2\tTrain Acc: 70.31%\tValid Acc: 16%\tLearning rate: 0.002012\n",
      "Epoch: 8:\t Loss: 1.255644\t Time cost: 2\tTrain Acc: 74.22%\tValid Acc: 19%\tLearning rate: 0.002012\n",
      "Epoch: 9:\t Loss: 1.195211\t Time cost: 2\tTrain Acc: 80.47%\tValid Acc: 22%\tLearning rate: 0.002012\n",
      "Epoch: 10:\t Loss: 1.142512\t Time cost: 2\tTrain Acc: 80.47%\tValid Acc: 22%\tLearning rate: 0.002012\n",
      "Epoch: 11:\t Loss: 1.057700\t Time cost: 2\tTrain Acc: 85.16%\tValid Acc: 25%\tLearning rate: 0.002012\n",
      "Epoch: 12:\t Loss: 1.019442\t Time cost: 2\tTrain Acc: 85.94%\tValid Acc: 22%\tLearning rate: 0.002012\n",
      "Epoch: 13:\t Loss: 0.970961\t Time cost: 2\tTrain Acc: 90.62%\tValid Acc: 22%\tLearning rate: 0.002012\n",
      "Epoch: 14:\t Loss: 0.900074\t Time cost: 2\tTrain Acc: 90.62%\tValid Acc: 22%\tLearning rate: 0.002012\n",
      "Epoch: 15:\t Loss: 0.865656\t Time cost: 2\tTrain Acc: 92.19%\tValid Acc: 22%\tLearning rate: 0.002012\n",
      "Epoch: 16:\t Loss: 0.815406\t Time cost: 2\tTrain Acc: 96.09%\tValid Acc: 22%\tLearning rate: 0.002012\n",
      "Epoch: 17:\t Loss: 0.791507\t Time cost: 2\tTrain Acc: 93.75%\tValid Acc: 28%\tLearning rate: 0.002012\n",
      "Epoch: 18:\t Loss: 0.759328\t Time cost: 2\tTrain Acc: 95.31%\tValid Acc: 28%\tLearning rate: 0.002012\n",
      "Epoch: 19:\t Loss: 0.726281\t Time cost: 2\tTrain Acc: 94.53%\tValid Acc: 28%\tLearning rate: 0.002012\n",
      "Epoch: 20:\t Loss: 0.713383\t Time cost: 2\tTrain Acc: 96.88%\tValid Acc: 28%\tLearning rate: 0.002012\n",
      "Finished training ................................\n",
      "Finished experiment  0\n",
      "====================================================================================================\n"
     ]
    }
   ],
   "source": [
    "experiment_data = random_search(num_exp, train_batch_size, valid_batch_size, convnet_shapes, epoch)"
   ]
  },
  {
   "cell_type": "code",
   "execution_count": 203,
   "metadata": {
    "collapsed": false
   },
   "outputs": [
    {
     "name": "stdout",
     "output_type": "stream",
     "text": [
      "keep_prob\t\tlearning rate\t\tinit_std\t\tbeta\t\t\tvalid accuracy\n",
      "0.598524864182 \t\t0.00201166627089 \t0.394541091282 \t\t0.0958682416236 \t0.28125\n"
     ]
    }
   ],
   "source": [
    "key = experiment_data.keys()[0]\n",
    "exp_data = experiment_data[key]\n",
    "print 'keep_prob\\t\\t', 'learning rate\\t\\t', 'init_std\\t\\t', 'beta\\t\\t\\t', 'valid accuracy'\n",
    "print key[0],'\\t\\t',key[1],'\\t',key[2],'\\t\\t',key[3],'\\t', exp_data['valid_acc'][-1]"
   ]
  },
  {
   "cell_type": "code",
   "execution_count": 201,
   "metadata": {
    "collapsed": false
   },
   "outputs": [
    {
     "data": {
      "image/png": "[encoded data removed]",
      "text/plain": [
       "<matplotlib.figure.Figure at 0x115b2ec90>"
      ]
     },
     "metadata": {},
     "output_type": "display_data"
    }
   ],
   "source": [
    "plot_data(exp_data)"
   ]
  },
  {
   "cell_type": "markdown",
   "metadata": {},
   "source": [
    "***\n",
    "### Summary\n",
    "- Trail run parameters:\n",
    "    - AdamOptimizer\n",
    "    - Drop out keep prob: 0.47\n",
    "    - Weights initialization: truncated_normal with stddev=0.33\n",
    "    - Biases initialization : constant (1.0)\n",
    "    - CONVNET architecture:\n",
    "        * conv1: filter size 5x5, num of filters: 64, stride=1, padding=SAME + ReLu\n",
    "        * pool1: filter size 2x2, max pooling, stride=2, padding=SAME\n",
    "        * conv2: filter size 3x3, num of filters: 64, stride=1, padding=SAME + ReLu\n",
    "        * pool2: filter size 2x2, max pooling, stride=2, padding=SAME\n",
    "        * conv3: filter size 5x5, num of filters: 64, stride=1, padding=SAME + ReLu\n",
    "        * pool3: filter size 2x2, max pooling, stride=1, padding=SAME\n",
    "        * fc1  : 512 neurons\n",
    "        * fc2  : 10 neurons\n",
    "    - Time cost per epoch:  secs\n",
    "    - MiniBatch size: 512\n",
    "    - Total epoches ran: 1164\n",
    "    - learning rate: 0.0004, decay rate: 0.9, decay steps: 77, staircase: True\n",
    "    - L2 regularization factor beta: 0.096"
   ]
  },
  {
   "cell_type": "code",
   "execution_count": null,
   "metadata": {
    "collapsed": true
   },
   "outputs": [],
   "source": []
  }
 ],
 "metadata": {
  "kernelspec": {
   "display_name": "Python 2",
   "language": "python",
   "name": "python2"
  },
  "language_info": {
   "codemirror_mode": {
    "name": "ipython",
    "version": 2
   },
   "file_extension": ".py",
   "mimetype": "text/x-python",
   "name": "python",
   "nbconvert_exporter": "python",
   "pygments_lexer": "ipython2",
   "version": "2.7.12"
  }
 },
 "nbformat": 4,
 "nbformat_minor": 1
}
